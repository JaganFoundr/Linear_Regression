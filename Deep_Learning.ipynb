{
  "nbformat": 4,
  "nbformat_minor": 0,
  "metadata": {
    "colab": {
      "provenance": [],
      "authorship_tag": "ABX9TyNfAPNKWVtX2/23vAoQYz2R",
      "include_colab_link": true
    },
    "kernelspec": {
      "name": "python3",
      "display_name": "Python 3"
    },
    "language_info": {
      "name": "python"
    }
  },
  "cells": [
    {
      "cell_type": "markdown",
      "metadata": {
        "id": "view-in-github",
        "colab_type": "text"
      },
      "source": [
        "<a href=\"https://colab.research.google.com/github/JaganFoundr/PyTorchNN/blob/main/Deep_Learning.ipynb\" target=\"_parent\"><img src=\"https://colab.research.google.com/assets/colab-badge.svg\" alt=\"Open In Colab\"/></a>"
      ]
    },
    {
      "cell_type": "code",
      "source": [
        "#LINEAR REGRESSION\n",
        "\n",
        "#importing all the important libraries\n",
        "import torch\n",
        "import numpy as np\n",
        "\n",
        "#inputs (temperature, rainfall, humidity)\n",
        "inputs=np.array([[73,67,45],\n",
        "                 [91,88,64],\n",
        "                 [87,134,58],\n",
        "                 [102,43,37],\n",
        "                 [69,96,70]],dtype='float32')\n",
        "\n",
        "#targets (apples, oranges)\n",
        "targets=np.array([[56,70],\n",
        "                 [81,101],\n",
        "                 [119,133],\n",
        "                 [22,37],\n",
        "                 [103,119]],dtype='float32')\n",
        "\n",
        "#converting inputs and targets from numpy format to tensor format\n",
        "inputs=torch.from_numpy(inputs)\n",
        "targets=torch.from_numpy(targets)\n",
        "\n",
        "# defining random weights and biases\n",
        "weights=torch.randn(2,3,requires_grad=True)\n",
        "bias=torch.randn(2,requires_grad=True)\n",
        "\n",
        "#function for the prediction equation for the model\n",
        "def model(x):\n",
        "  return x @ weights.t()+bias\n",
        "\n",
        "#function for the loss\n",
        "def mse(x,y):\n",
        "  diff=x-y\n",
        "  return torch.sum(diff*diff)/diff.numel()\n",
        "\n",
        "#training loop with 1000 epochs\n",
        "for i in range(1000):\n",
        "\n",
        "  #predicting using the inputs\n",
        "  prediction=model(inputs)\n",
        "\n",
        "  # checking the loss of the prediction\n",
        "  loss=mse(prediction, targets)\n",
        "  print(loss)\n",
        "\n",
        "  # backpropogating to compute gradients and update the weights\n",
        "  loss.backward()\n",
        "\n",
        "  #updating the weights without tracking the gradient\n",
        "  with torch.no_grad():\n",
        "\n",
        "    #learning rate value\n",
        "    lr=0.00001\n",
        "\n",
        "    #updating weights\n",
        "    weights-=weights.grad*lr\n",
        "\n",
        "    #updating bias\n",
        "    bias-=bias.grad*lr\n",
        "\n",
        "    #emptying the gradients of weights and bias\n",
        "    weights.grad.zero_()\n",
        "    bias.grad.zero_()\n",
        "\n",
        "print(loss)"
      ],
      "metadata": {
        "id": "CdEho-pTaSMz"
      },
      "execution_count": null,
      "outputs": []
    },
    {
      "cell_type": "code",
      "source": [
        "#MORE COMPLEX LINEAR REGRESSION\n",
        "\n",
        "import torch\n",
        "import torch.nn as nn\n",
        "from torch.utils.data import TensorDataset,DataLoader\n",
        "import torch.nn.functional as F\n",
        "import numpy as np\n",
        "\n",
        "\n",
        "inputs=np.array([[73,67,43],[91,88,64],[87,134,58],\n",
        "                 [102,43,37],[69,96,70],[73,67,43],\n",
        "                 [91,88,64],[87,134,58],[102,43,37],\n",
        "                 [69,96,70],[73,67,43],[91,88,64],\n",
        "                 [87,134,58],[102,43,37],[69,96,70]],dtype='float32')\n",
        "\n",
        "targets=np.array([[56,70],[81,101],[119,133],\n",
        "                 [22,37],[103,119],[56,70],\n",
        "                 [81,101],[119,133],[22,37],\n",
        "                 [103,119],[56,70],[81,101],\n",
        "                 [119,133],[22,73],[103,119]],dtype='float32')\n",
        "\n",
        "inputs=torch.tensor(inputs)\n",
        "targets=torch.tensor(targets)\n",
        "\n",
        "training_data=TensorDataset(inputs,targets)\n",
        "\n",
        "batch_size = 5\n",
        "\n",
        "training_data=DataLoader(training_data, batch_size, shuffle=True )\n",
        "\n",
        "model=nn.Linear(3,2)\n",
        "\n",
        "list(model.parameters())\n",
        "\n",
        "loss_fn = F.mse_loss\n",
        "\n",
        "optimizer=torch.optim.SGD(model.parameters(),lr=0.00001)\n",
        "\n",
        "def train_function(nepochs, model, loss_fn, optimizer):\n",
        "  for epochs in range(nepochs):\n",
        "    for x,y in training_data:\n",
        "\n",
        "      prediction = model(x)\n",
        "\n",
        "      loss = loss_fn(prediction, y)\n",
        "\n",
        "      loss.backward()\n",
        "\n",
        "      optimizer.step()\n",
        "\n",
        "      optimizer.zero_grad()\n",
        "\n",
        "    if (epochs+1)%10==0:\n",
        "      print(f\"epochs: {epochs+1}/{nepochs} , loss: {loss.item()}\")\n",
        "\n",
        "train_function(1000, model, loss_fn, optimizer)\n",
        "\n",
        "prediction=model(inputs)\n",
        "\n",
        "print(prediction)\n",
        "\n",
        "print(targets)"
      ],
      "metadata": {
        "id": "ZJN2ACY-uplj",
        "collapsed": true
      },
      "execution_count": null,
      "outputs": []
    },
    {
      "cell_type": "code",
      "source": [
        "#LOGISTIC REGRESSION USING MNIST\n",
        "\n",
        "#importing libraries\n",
        "import torch\n",
        "from torchvision.datasets import MNIST\n",
        "import torchvision.transforms as transforms\n",
        "import matplotlib.pyplot as plt\n",
        "import numpy as np\n",
        "import torch.nn.functional as F\n",
        "import torch.nn as nn\n",
        "from torch.utils.data import SubsetRandomSampler, DataLoader\n",
        "\n",
        "#main dataset and testdata\n",
        "dataset=MNIST(download=True, train=True, root=\"./data\", transform=transforms.ToTensor())\n",
        "testset=MNIST(root=\"./data\", train=False, transform=transforms.ToTensor())\n",
        "\n",
        "#plotting the dataset\n",
        "image,labels=dataset[1000]\n",
        "plt.imshow(image[0,10:25,10:25], cmap=\"gray\")\n",
        "plt.show()\n",
        "print(\"label: \", labels)"
      ],
      "metadata": {
        "id": "ZQV72q6kWpJf"
      },
      "execution_count": null,
      "outputs": []
    },
    {
      "cell_type": "code",
      "source": [],
      "metadata": {
        "id": "NHGGYphHtljA"
      },
      "execution_count": null,
      "outputs": []
    },
    {
      "cell_type": "code",
      "source": [
        "#splitting the whole dataset into validation data and training data\n",
        "def split_data(dataset, validation_percent):\n",
        "  validation_data=int(dataset*validation_percent)\n",
        "  shuffled=np.random.permutation(dataset)\n",
        "  return shuffled[validation_data:], shuffled[:validation_data]\n",
        "\n",
        "training_data,validation_data = split_data(len(dataset), 0.3)\n",
        "print(\"length of training data: \", len(training_data))\n",
        "print(\"length of validation data: \", len(validation_data))\n",
        "\n",
        "print(\"portion of validation data: \",validation_data[:20])"
      ],
      "metadata": {
        "id": "dlorU70oXLps"
      },
      "execution_count": null,
      "outputs": []
    },
    {
      "cell_type": "code",
      "source": [
        "#putting all the splitted data to the sampler and then into the dataloader\n",
        "train_data_sampler=SubsetRandomSampler(training_data)\n",
        "valid_data_sampler=SubsetRandomSampler(validation_data)\n",
        "\n",
        "batch_size=100\n",
        "\n",
        "training_loader=DataLoader(dataset, batch_size, sampler=train_data_sampler)\n",
        "validation_loader=DataLoader(dataset, batch_size, sampler=valid_data_sampler)"
      ],
      "metadata": {
        "id": "JIlbxkGddWAM"
      },
      "execution_count": null,
      "outputs": []
    },
    {
      "cell_type": "code",
      "source": [
        "#defining the model\n",
        "input_size=28*28\n",
        "num_classes=10\n",
        "\n",
        "class MNISTmodel(nn.Module):\n",
        "  def __init__(self):\n",
        "    super().__init__()\n",
        "    self.Linear=nn.Linear(input_size,num_classes)\n",
        "\n",
        "  def forward(self, size):\n",
        "    size=size.reshape(-1,784)\n",
        "    output=self.Linear(size)\n",
        "    return output\n",
        "\n",
        "model=MNISTmodel()"
      ],
      "metadata": {
        "id": "3Gej-4W87N2t"
      },
      "execution_count": null,
      "outputs": []
    },
    {
      "cell_type": "code",
      "source": [
        "#putting the training loader in the for loop as inputs and outputs for prediction\n",
        "for images, labels in training_loader:\n",
        "  prediction=model(images)"
      ],
      "metadata": {
        "collapsed": true,
        "id": "zZXbi9a5Pv87"
      },
      "execution_count": null,
      "outputs": []
    },
    {
      "cell_type": "code",
      "source": [
        "#display predictions and sum of the predictions of each array\n",
        "print(prediction[:2])\n",
        "sum=torch.sum(prediction[2])\n",
        "print(sum)\n",
        "\n",
        "#changing the sum of the probablities of the predictions close to 1 and then checking the sum again\n",
        "prob=F.softmax(prediction)\n",
        "print(prob[:2])\n",
        "sum=torch.sum(prob[2])\n",
        "print(sum)\n",
        "\n",
        "#displaying the exact predicted labels by the model\n",
        "max_prob, pred = torch.max(prob, dim=1)\n",
        "print(pred)\n",
        "print(max_prob)\n",
        "\n",
        "#displaying the actual target labels\n",
        "print(labels)"
      ],
      "metadata": {
        "id": "XGqPcJUW9P4s"
      },
      "execution_count": null,
      "outputs": []
    },
    {
      "cell_type": "code",
      "source": [
        "#defining the loss\n",
        "loss_fn=F.cross_entropy"
      ],
      "metadata": {
        "id": "ivMZt7kCgQQn"
      },
      "execution_count": null,
      "outputs": []
    },
    {
      "cell_type": "code",
      "source": [
        "#defining the optimizer\n",
        "opt=torch.optim.SGD(model.parameters(), lr=0.0001)"
      ],
      "metadata": {
        "id": "iDN3RG9YjUEG"
      },
      "execution_count": null,
      "outputs": []
    },
    {
      "cell_type": "code",
      "source": [
        "# accuracy metrics\n",
        "def accuracy(outputs, labels):\n",
        "  _,pred=torch.max(outputs, dim=1)\n",
        "  return (torch.sum(pred==labels).item()/len(pred))*100"
      ],
      "metadata": {
        "id": "bSGzZGi4S59k"
      },
      "execution_count": null,
      "outputs": []
    },
    {
      "cell_type": "code",
      "source": [
        "# loss batch function for loss computation, gradient computation, updating weights, resetting gradients, accuracy computation\n",
        "def loss_batch(model, loss_fn, images, labels, opt, metrics=accuracy):\n",
        "  prediction=model(images)\n",
        "  loss=loss_fn(prediction, labels)\n",
        "\n",
        "  if opt is not None:\n",
        "    loss.backward()\n",
        "    opt.step()\n",
        "    opt.zero_grad()\n",
        "\n",
        "  metric_result=None\n",
        "  if metrics is not None:\n",
        "    metric_result=metrics(prediction, labels)\n",
        "\n",
        "  return loss.item(), len(images), metric_result"
      ],
      "metadata": {
        "id": "oObTH91hPsnK"
      },
      "execution_count": null,
      "outputs": []
    },
    {
      "cell_type": "code",
      "source": [
        "# function for evaluating the average loss and average accuracy of the validation set\n",
        "def evaluate(model, loss_fn, validation_loader, metrics=accuracy):\n",
        "  with torch.no_grad():\n",
        "    validation_prediction=[loss_batch(model, loss_fn, images, labels, opt=None, metrics=accuracy) for images, labels in validation_loader]\n",
        "\n",
        "    losses, nums, metric=zip(*validation_prediction)\n",
        "\n",
        "    total=np.sum(nums)\n",
        "\n",
        "    average_loss = np.sum(np.multiply(losses, nums))/total\n",
        "\n",
        "    average_metrics=None\n",
        "    if metrics is not None:\n",
        "      average_metrics = np.sum(np.multiply(metric, nums))/total\n",
        "\n",
        "  return average_loss.item(), total, average_metrics"
      ],
      "metadata": {
        "id": "OkoWI6TfbQyx"
      },
      "execution_count": null,
      "outputs": []
    },
    {
      "cell_type": "code",
      "source": [
        "#function for explicit training\n",
        "def fit(nepochs, model, images, labels, training_loader, validation_loader, opt, metrics=accuracy):\n",
        "  for epoch in range(nepochs):\n",
        "    for images, labels in training_loader:\n",
        "      train_loss,_, train_accuracy=loss_batch(model, loss_fn, images, labels, opt, metrics=accuracy)\n",
        "\n",
        "    valid_loss, _, valid_accuracy= evaluate(model, loss_fn, validation_loader, metrics=accuracy)\n",
        "\n",
        "    print(f\"Epoch: {epoch+1}/{nepochs}\")\n",
        "    print(f\"Training loss: {train_loss:.4f} and Validation loss: {valid_loss:.4f}.\")\n",
        "    print(f\"Training accuracy: {train_accuracy:.2f}% and Validation accuracy: {valid_accuracy:.2f}%.\")\n",
        "    print(\"--------------------------------------------------------------------------------------------\")\n",
        "\n",
        "  return train_loss, _, train_accuracy, valid_loss, _, valid_accuracy\n",
        "\n",
        "train_loss,_, train_accuracy, valid_loss, _, valid_accuracy = fit(6, model, images, labels, training_loader, validation_loader, opt, metrics=accuracy)\n",
        "\n",
        "print(\"--\")\n",
        "print(f\"The train accuracy is {train_accuracy:.2f} % and loss is {train_loss:.4f}.\")\n",
        "print(\"--------------------------------------------\")\n",
        "print(f\"The validation accuracy is {valid_accuracy:.2f} % and loss is {valid_loss:.4f}\")"
      ],
      "metadata": {
        "id": "TCttIo85b4ch"
      },
      "execution_count": null,
      "outputs": []
    },
    {
      "cell_type": "code",
      "source": [
        "# testing the model with the testing dataset\n",
        "#function for predicting the test images\n",
        "def predict_image(image, model):\n",
        "  input=image.unsqueeze(0)\n",
        "  output=model(input)\n",
        "  _,preds=torch.max(output, dim=1)\n",
        "\n",
        "  return preds[0].item()"
      ],
      "metadata": {
        "id": "v8W1V8lqiu3b"
      },
      "execution_count": null,
      "outputs": []
    },
    {
      "cell_type": "code",
      "source": [
        "#predicting and displaying different labels\n",
        "image,labels=testset[10]\n",
        "plt.imshow(image[0], cmap=\"gray\")\n",
        "plt.show()\n",
        "print(\"label: \", labels)\n",
        "print(\"predicted: \", predict_image(image, model))\n",
        "\n",
        "image,labels=testset[100]\n",
        "plt.imshow(image[0], cmap=\"gray\")\n",
        "plt.show()\n",
        "print(\"label: \", labels)\n",
        "print(\"predicted: \", predict_image(image, model))\n",
        "\n",
        "image,labels=testset[1000]\n",
        "plt.imshow(image[0], cmap=\"gray\")\n",
        "plt.show()\n",
        "print(\"label: \", labels)\n",
        "print(\"predicted: \", predict_image(image, model))\n",
        "\n",
        "image,labels=testset[905]\n",
        "plt.imshow(image[0], cmap=\"gray\")\n",
        "plt.show()\n",
        "print(\"label: \", labels)\n",
        "print(\"predicted: \", predict_image(image, model))"
      ],
      "metadata": {
        "id": "rmP4znRwkh7s"
      },
      "execution_count": null,
      "outputs": []
    },
    {
      "cell_type": "code",
      "source": [
        "#checking the loss and accuracy on the test set\n",
        "test_loader=DataLoader(testset, batch_size=200)\n",
        "test_loss, total, test_accuracy=evaluate(model, loss_fn, test_loader, metrics=accuracy)\n",
        "print(f\"The test set loss is {test_loss:.4f} and the accuracy is {test_accuracy:.2f}%.\")"
      ],
      "metadata": {
        "id": "xCKU1FQKn-YG"
      },
      "execution_count": null,
      "outputs": []
    },
    {
      "cell_type": "code",
      "source": [
        "#saving and loading the model\n",
        "torch.save(model.state_dict(),'MNISTlogistic.pth')\n",
        "model.state_dict()"
      ],
      "metadata": {
        "id": "ILIq6GWqqLFV"
      },
      "execution_count": null,
      "outputs": []
    },
    {
      "cell_type": "code",
      "source": [
        "savedmodel=MNISTmodel()\n",
        "savedmodel.load_state_dict(torch.load('MNISTlogistic.pth'))\n",
        "savedmodel.state_dict()"
      ],
      "metadata": {
        "id": "9s_BDeUdr7ZX"
      },
      "execution_count": null,
      "outputs": []
    },
    {
      "cell_type": "code",
      "source": [],
      "metadata": {
        "id": "jNhqtZ1sYjVM"
      },
      "execution_count": null,
      "outputs": []
    },
    {
      "cell_type": "code",
      "source": [],
      "metadata": {
        "id": "UPQfPo9TYjST"
      },
      "execution_count": null,
      "outputs": []
    },
    {
      "cell_type": "code",
      "source": [
        "#1\n",
        "import torch\n",
        "from torchvision.datasets import MNIST\n",
        "import torchvision.transforms as transform\n",
        "import matplotlib.pyplot as plt\n",
        "import torch.nn as nn\n",
        "import torch.nn.functional as F\n",
        "import numpy as np\n",
        "from torch.utils.data import SubsetRandomSampler, DataLoader"
      ],
      "metadata": {
        "id": "wu3GnbgisZBY"
      },
      "execution_count": 1,
      "outputs": []
    },
    {
      "cell_type": "code",
      "source": [
        "#2\n",
        "dataset=MNIST(root='./data', download=True, train=True, transform=transform.ToTensor())\n",
        "testset=MNIST(root='./data', download=True, train=False, transform=transform.ToTensor())"
      ],
      "metadata": {
        "colab": {
          "base_uri": "https://localhost:8080/"
        },
        "id": "shgd51IfVTNH",
        "outputId": "79b50f1d-7e9a-418b-88c8-a80a9c45c674"
      },
      "execution_count": 2,
      "outputs": [
        {
          "output_type": "stream",
          "name": "stdout",
          "text": [
            "Downloading http://yann.lecun.com/exdb/mnist/train-images-idx3-ubyte.gz\n",
            "Failed to download (trying next):\n",
            "HTTP Error 403: Forbidden\n",
            "\n",
            "Downloading https://ossci-datasets.s3.amazonaws.com/mnist/train-images-idx3-ubyte.gz\n",
            "Downloading https://ossci-datasets.s3.amazonaws.com/mnist/train-images-idx3-ubyte.gz to ./data/MNIST/raw/train-images-idx3-ubyte.gz\n"
          ]
        },
        {
          "output_type": "stream",
          "name": "stderr",
          "text": [
            "100%|██████████| 9.91M/9.91M [00:00<00:00, 17.6MB/s]\n"
          ]
        },
        {
          "output_type": "stream",
          "name": "stdout",
          "text": [
            "Extracting ./data/MNIST/raw/train-images-idx3-ubyte.gz to ./data/MNIST/raw\n",
            "\n",
            "Downloading http://yann.lecun.com/exdb/mnist/train-labels-idx1-ubyte.gz\n",
            "Failed to download (trying next):\n",
            "HTTP Error 403: Forbidden\n",
            "\n",
            "Downloading https://ossci-datasets.s3.amazonaws.com/mnist/train-labels-idx1-ubyte.gz\n",
            "Downloading https://ossci-datasets.s3.amazonaws.com/mnist/train-labels-idx1-ubyte.gz to ./data/MNIST/raw/train-labels-idx1-ubyte.gz\n"
          ]
        },
        {
          "output_type": "stream",
          "name": "stderr",
          "text": [
            "100%|██████████| 28.9k/28.9k [00:00<00:00, 495kB/s]\n"
          ]
        },
        {
          "output_type": "stream",
          "name": "stdout",
          "text": [
            "Extracting ./data/MNIST/raw/train-labels-idx1-ubyte.gz to ./data/MNIST/raw\n",
            "\n",
            "Downloading http://yann.lecun.com/exdb/mnist/t10k-images-idx3-ubyte.gz\n",
            "Failed to download (trying next):\n",
            "HTTP Error 403: Forbidden\n",
            "\n",
            "Downloading https://ossci-datasets.s3.amazonaws.com/mnist/t10k-images-idx3-ubyte.gz\n",
            "Downloading https://ossci-datasets.s3.amazonaws.com/mnist/t10k-images-idx3-ubyte.gz to ./data/MNIST/raw/t10k-images-idx3-ubyte.gz\n"
          ]
        },
        {
          "output_type": "stream",
          "name": "stderr",
          "text": [
            "100%|██████████| 1.65M/1.65M [00:00<00:00, 4.49MB/s]\n"
          ]
        },
        {
          "output_type": "stream",
          "name": "stdout",
          "text": [
            "Extracting ./data/MNIST/raw/t10k-images-idx3-ubyte.gz to ./data/MNIST/raw\n",
            "\n",
            "Downloading http://yann.lecun.com/exdb/mnist/t10k-labels-idx1-ubyte.gz\n",
            "Failed to download (trying next):\n",
            "HTTP Error 403: Forbidden\n",
            "\n",
            "Downloading https://ossci-datasets.s3.amazonaws.com/mnist/t10k-labels-idx1-ubyte.gz\n",
            "Downloading https://ossci-datasets.s3.amazonaws.com/mnist/t10k-labels-idx1-ubyte.gz to ./data/MNIST/raw/t10k-labels-idx1-ubyte.gz\n"
          ]
        },
        {
          "output_type": "stream",
          "name": "stderr",
          "text": [
            "100%|██████████| 4.54k/4.54k [00:00<00:00, 2.76MB/s]\n"
          ]
        },
        {
          "output_type": "stream",
          "name": "stdout",
          "text": [
            "Extracting ./data/MNIST/raw/t10k-labels-idx1-ubyte.gz to ./data/MNIST/raw\n",
            "\n"
          ]
        }
      ]
    },
    {
      "cell_type": "code",
      "source": [
        "#3\n",
        "images, labels = dataset[230]\n",
        "plot=images[:,10:17,10:17]\n",
        "plt.imshow(plot[0], cmap='gray')\n",
        "plt.show()\n",
        "print(\"labels: \",labels)"
      ],
      "metadata": {
        "colab": {
          "base_uri": "https://localhost:8080/",
          "height": 447
        },
        "id": "YXJRiX_MYaF5",
        "outputId": "ed06ddde-b113-4b2a-e771-b82331b15368"
      },
      "execution_count": 3,
      "outputs": [
        {
          "output_type": "display_data",
          "data": {
            "text/plain": [
              "<Figure size 640x480 with 1 Axes>"
            ],
            "image/png": "[encoded data removed]"
          },
          "metadata": {}
        },
        {
          "output_type": "stream",
          "name": "stdout",
          "text": [
            "labels:  7\n"
          ]
        }
      ]
    },
    {
      "cell_type": "code",
      "source": [
        "#4\n",
        "def splitted_data(data, valid_data_percent):\n",
        "  valid_num=int(data*valid_data_percent)\n",
        "  index=np.random.permutation(data)\n",
        "  return index[valid_num:], index[:valid_num]\n",
        "training_data, validation_data=splitted_data(len(dataset), 0.25)\n",
        "print(\"Training data: \",len(training_data))\n",
        "print(\"Validation data\",len(validation_data))\n",
        "print(\"portion of validation data: \", validation_data[:20])"
      ],
      "metadata": {
        "colab": {
          "base_uri": "https://localhost:8080/"
        },
        "id": "RjY91nW4YZ3Z",
        "outputId": "e21830e8-bdfd-4bce-da87-36a3f5f01881"
      },
      "execution_count": 6,
      "outputs": [
        {
          "output_type": "stream",
          "name": "stdout",
          "text": [
            "Training data:  45000\n",
            "Validation data 15000\n",
            "portion of validation data:  [31574  4676 45976 17191 49237 11063  6707 12573 45091  7472 25482 40707\n",
            " 37330 50627 40905  6364 41302 34121 58774 45092]\n"
          ]
        }
      ]
    },
    {
      "cell_type": "code",
      "source": [
        "#5\n",
        "training_sampler=SubsetRandomSampler(training_data)\n",
        "validation_sampler=SubsetRandomSampler(validation_data)\n",
        "\n",
        "batch_size=100\n",
        "\n",
        "training_loader=DataLoader(dataset=dataset, batch_size=batch_size, sampler=training_sampler)\n",
        "validation_loader=DataLoader(dataset=dataset, batch_size=batch_size, sampler=validation_sampler)"
      ],
      "metadata": {
        "id": "1c2jumtnYZ0s"
      },
      "execution_count": 7,
      "outputs": []
    },
    {
      "cell_type": "code",
      "source": [
        "#6\n",
        "input_size=28*28\n",
        "hidden_size1=256\n",
        "hidden_size2=128\n",
        "output_size=10\n",
        "class MNISTMODEL(nn.Module):\n",
        "  def __init__(self, input_size, hidden_size1, hidden_size2 ,output_size):\n",
        "    super().__init__()\n",
        "    #hidden layer1\n",
        "    self.linear1=nn.Linear(input_size, hidden_size1)\n",
        "    #hidden layer2\n",
        "    self.linear2=nn.Linear(hidden_size1, hidden_size2)\n",
        "    #output layer\n",
        "    self.linear3=nn.Linear(hidden_size2, output_size)\n",
        "\n",
        "\n",
        "  def forward(self,batch):\n",
        "    size=batch.view(batch.size(0),-1)\n",
        "\n",
        "    hidden1=self.linear1(size)\n",
        "\n",
        "    output=F.relu(hidden1)\n",
        "\n",
        "    hidden2=self.linear2(output)\n",
        "\n",
        "    output=F.relu(hidden2)\n",
        "\n",
        "    output=self.linear3(output)\n",
        "\n",
        "    return output\n",
        "\n",
        "model=MNISTMODEL(input_size, hidden_size1, hidden_size2, output_size)"
      ],
      "metadata": {
        "id": "zlKTAD2HYZyT"
      },
      "execution_count": 8,
      "outputs": []
    },
    {
      "cell_type": "code",
      "source": [
        "for t in model.parameters():\n",
        "  print(t.shape)"
      ],
      "metadata": {
        "colab": {
          "base_uri": "https://localhost:8080/"
        },
        "id": "7M5CWRypoUj6",
        "outputId": "34d06256-7045-4f0a-e5e5-574ed2454047"
      },
      "execution_count": 9,
      "outputs": [
        {
          "output_type": "stream",
          "name": "stdout",
          "text": [
            "torch.Size([256, 784])\n",
            "torch.Size([256])\n",
            "torch.Size([128, 256])\n",
            "torch.Size([128])\n",
            "torch.Size([10, 128])\n",
            "torch.Size([10])\n"
          ]
        }
      ]
    },
    {
      "cell_type": "code",
      "source": [
        "#7\n",
        "for images, labels in training_loader:\n",
        "  prediction=model(images)"
      ],
      "metadata": {
        "id": "4vmTOP1aYZue"
      },
      "execution_count": 10,
      "outputs": []
    },
    {
      "cell_type": "code",
      "source": [
        "#8\n",
        "print(prediction[0])\n",
        "\n",
        "#9\n",
        "prob_sum=torch.sum(prediction[0])\n",
        "print(prob_sum)\n",
        "\n",
        "changed_pred=F.softmax(prediction)\n",
        "changed_sum=torch.sum(changed_pred[9])\n",
        "print(changed_sum)"
      ],
      "metadata": {
        "colab": {
          "base_uri": "https://localhost:8080/"
        },
        "id": "26sKMZg6YZjv",
        "outputId": "4e9fe89a-bee4-4bbf-8321-8238ff3a8e51"
      },
      "execution_count": 11,
      "outputs": [
        {
          "output_type": "stream",
          "name": "stdout",
          "text": [
            "tensor([ 0.0028,  0.0997,  0.0757,  0.0355, -0.0532, -0.0093,  0.0070,  0.0064,\n",
            "        -0.0342, -0.0549], grad_fn=<SelectBackward0>)\n",
            "tensor(0.0756, grad_fn=<SumBackward0>)\n",
            "tensor(1.0000, grad_fn=<SumBackward0>)\n"
          ]
        },
        {
          "output_type": "stream",
          "name": "stderr",
          "text": [
            "<ipython-input-11-a0f466636ccd>:8: UserWarning: Implicit dimension choice for softmax has been deprecated. Change the call to include dim=X as an argument.\n",
            "  changed_pred=F.softmax(prediction)\n"
          ]
        }
      ]
    },
    {
      "cell_type": "code",
      "source": [
        "#10\n",
        "_,pred=torch.max(prediction, dim=1)\n",
        "print(pred)"
      ],
      "metadata": {
        "colab": {
          "base_uri": "https://localhost:8080/"
        },
        "id": "I8PPAvBlgqZA",
        "outputId": "3604c32d-6b32-4e05-8ac6-5d984e638e59"
      },
      "execution_count": 12,
      "outputs": [
        {
          "output_type": "stream",
          "name": "stdout",
          "text": [
            "tensor([1, 2, 1, 2, 2, 2, 1, 2, 2, 6, 1, 2, 2, 2, 1, 2, 1, 2, 1, 2, 2, 2, 1, 2,\n",
            "        1, 1, 1, 1, 1, 2, 2, 1, 1, 1, 2, 1, 1, 2, 1, 2, 1, 1, 2, 2, 2, 2, 1, 1,\n",
            "        2, 1, 2, 2, 2, 1, 2, 2, 1, 1, 2, 1, 2, 1, 2, 2, 1, 2, 1, 2, 2, 2, 1, 2,\n",
            "        1, 2, 2, 2, 2, 2, 2, 1, 1, 2, 1, 2, 2, 1, 2, 2, 1, 2, 2, 1, 2, 2, 2, 2,\n",
            "        1, 2, 1, 1])\n"
          ]
        }
      ]
    },
    {
      "cell_type": "code",
      "source": [
        "#11\n",
        "labels"
      ],
      "metadata": {
        "colab": {
          "base_uri": "https://localhost:8080/"
        },
        "id": "Ydw4qipQgqRs",
        "outputId": "02097d4e-5977-476d-9c17-e465ed044623"
      },
      "execution_count": 13,
      "outputs": [
        {
          "output_type": "execute_result",
          "data": {
            "text/plain": [
              "tensor([3, 8, 9, 2, 4, 6, 0, 8, 4, 2, 8, 0, 4, 1, 3, 5, 7, 7, 7, 0, 4, 8, 1, 9,\n",
              "        1, 7, 6, 1, 1, 4, 4, 9, 8, 1, 7, 4, 1, 8, 3, 9, 1, 0, 8, 5, 9, 9, 6, 3,\n",
              "        4, 5, 0, 7, 6, 3, 5, 2, 8, 1, 4, 1, 6, 1, 7, 5, 7, 2, 6, 8, 4, 6, 7, 3,\n",
              "        3, 8, 9, 6, 6, 9, 6, 9, 1, 0, 9, 6, 0, 1, 8, 9, 7, 7, 4, 6, 4, 2, 2, 2,\n",
              "        7, 9, 8, 3])"
            ]
          },
          "metadata": {},
          "execution_count": 13
        }
      ]
    },
    {
      "cell_type": "code",
      "source": [
        "#12\n",
        "def accuracy(output, labels):\n",
        "  _,pred=torch.max(output, dim=1)\n",
        "  return torch.sum(pred==labels).item()/len(pred)*100"
      ],
      "metadata": {
        "id": "AYn7pl5AYZaC"
      },
      "execution_count": 19,
      "outputs": []
    },
    {
      "cell_type": "code",
      "source": [
        "#13\n",
        "loss_function=F.cross_entropy"
      ],
      "metadata": {
        "id": "whNpBd-Vfcy3"
      },
      "execution_count": 20,
      "outputs": []
    },
    {
      "cell_type": "code",
      "source": [
        "#14\n",
        "opt=torch.optim.SGD(model.parameters(), lr=0.01)"
      ],
      "metadata": {
        "id": "5OhakYczfcwQ"
      },
      "execution_count": 22,
      "outputs": []
    },
    {
      "cell_type": "code",
      "source": [
        "#15\n",
        "def loss_batch(model, loss_function, images, labels, opt, metrics=accuracy):\n",
        "  prediction=model(images)\n",
        "  loss=loss_function(prediction, labels)\n",
        "\n",
        "  if opt is not None:\n",
        "    loss.backward()\n",
        "    opt.step()\n",
        "    opt.zero_grad()\n",
        "\n",
        "  metric_result=None\n",
        "  if metrics is not None:\n",
        "    metric_result=metrics(prediction, labels)\n",
        "\n",
        "  return loss.item(), len(images), metric_result"
      ],
      "metadata": {
        "id": "j0su4yJQfct6"
      },
      "execution_count": 23,
      "outputs": []
    },
    {
      "cell_type": "code",
      "source": [
        "#16\n",
        "def evaluate(model, loss_function, validation_loader, metrics=accuracy):\n",
        "  with torch.no_grad():\n",
        "    result=[loss_batch(model, loss_function, images, labels, opt=None, metrics=accuracy) for images, labels in validation_loader]\n",
        "\n",
        "    losses, num, metric=zip(*result)\n",
        "\n",
        "    total=np.sum(num)\n",
        "\n",
        "    loss=np.sum(np.multiply(losses, num))/total\n",
        "\n",
        "    if metrics is not None:\n",
        "      metric=np.sum(np.multiply(metric, num))/total\n",
        "  return loss, total, metric"
      ],
      "metadata": {
        "id": "3mu76XCEfcrj"
      },
      "execution_count": 24,
      "outputs": []
    },
    {
      "cell_type": "code",
      "source": [
        "#17\n",
        "def train(nepochs, model, loss_function, training_loader, validation_loader, images, labels, opt, metrics=accuracy):\n",
        "  for epoch in range(nepochs):\n",
        "    for images, labels in training_loader:\n",
        "      train_loss,_,train_acc=loss_batch(model, loss_function, images, labels, opt, metrics=accuracy)\n",
        "\n",
        "    valid_loss,_,valid_acc=evaluate(model, loss_function, validation_loader, metrics=accuracy)\n",
        "\n",
        "    print(f\"Epoch: {epoch+1}/{nepochs}\")\n",
        "    print(f\"Training loss: {train_loss:.4f} and Validation loss: {valid_loss:.4f}.\")\n",
        "    print(f\"Training accuracy: {train_acc:.2f}% and Validation accuracy: {valid_acc:.2f}%.\")\n",
        "    print(\"--------------------------------------------------------------------------------------------\")\n",
        "\n",
        "  return train_loss,train_acc, valid_loss,valid_acc\n",
        "\n",
        "train_loss, train_acc, valid_loss, valid_acc = train(6, model, loss_function, training_loader, validation_loader, images, labels, opt, metrics=accuracy)\n",
        "\n"
      ],
      "metadata": {
        "colab": {
          "base_uri": "https://localhost:8080/"
        },
        "id": "MI5bHKeEfco7",
        "outputId": "f0641f56-e761-4926-a71c-2efd77320d50"
      },
      "execution_count": 25,
      "outputs": [
        {
          "output_type": "stream",
          "name": "stdout",
          "text": [
            "Epoch: 1/6\n",
            "Training loss: 1.7843 and Validation loss: 1.8035.\n",
            "Training accuracy: 64.00% and Validation accuracy: 62.03%.\n",
            "--------------------------------------------------------------------------------------------\n",
            "Epoch: 2/6\n",
            "Training loss: 0.7134 and Validation loss: 0.8134.\n",
            "Training accuracy: 80.00% and Validation accuracy: 79.97%.\n",
            "--------------------------------------------------------------------------------------------\n",
            "Epoch: 3/6\n",
            "Training loss: 0.5364 and Validation loss: 0.5522.\n",
            "Training accuracy: 86.00% and Validation accuracy: 85.15%.\n",
            "--------------------------------------------------------------------------------------------\n",
            "Epoch: 4/6\n",
            "Training loss: 0.5750 and Validation loss: 0.4553.\n",
            "Training accuracy: 81.00% and Validation accuracy: 87.42%.\n",
            "--------------------------------------------------------------------------------------------\n",
            "Epoch: 5/6\n",
            "Training loss: 0.4558 and Validation loss: 0.4035.\n",
            "Training accuracy: 90.00% and Validation accuracy: 88.64%.\n",
            "--------------------------------------------------------------------------------------------\n",
            "Epoch: 6/6\n",
            "Training loss: 0.3643 and Validation loss: 0.3733.\n",
            "Training accuracy: 91.00% and Validation accuracy: 89.44%.\n",
            "--------------------------------------------------------------------------------------------\n"
          ]
        }
      ]
    },
    {
      "cell_type": "code",
      "source": [
        "#18\n",
        "def prediction(images, model):\n",
        "  input=images.unsqueeze(0)\n",
        "  output=model(input)\n",
        "  _,pred=torch.max(output, dim=1)\n",
        "\n",
        "  return pred[0].item()"
      ],
      "metadata": {
        "id": "cZ2_ceTcfcmZ"
      },
      "execution_count": 26,
      "outputs": []
    },
    {
      "cell_type": "code",
      "source": [
        "#19\n",
        "images, labels=testset[20]\n",
        "plt.imshow(images[0], cmap='gray')\n",
        "plt.show()\n",
        "print(\"labels: \", labels)\n",
        "print(\"predicted: \",prediction(images, model))\n",
        "\n",
        "test_loader=DataLoader(testset, batch_size=200)\n",
        "\n",
        "\n",
        "#test accuracy (you define it in your own form)\n",
        "print(evaluate(model, loss_function, test_loader, metrics=accuracy))\n",
        "\n"
      ],
      "metadata": {
        "colab": {
          "base_uri": "https://localhost:8080/",
          "height": 482
        },
        "id": "CfzFPJNqfcjs",
        "outputId": "3ac11fdf-becf-455f-91cb-1a32cc4cf5b4"
      },
      "execution_count": 32,
      "outputs": [
        {
          "output_type": "display_data",
          "data": {
            "text/plain": [
              "<Figure size 640x480 with 1 Axes>"
            ],
            "image/png": "[encoded data removed]"
          },
          "metadata": {}
        },
        {
          "output_type": "stream",
          "name": "stdout",
          "text": [
            "labels:  9\n",
            "predicted:  9\n",
            "(0.3517108608782291, 10000, 90.08)\n"
          ]
        }
      ]
    },
    {
      "cell_type": "code",
      "source": [
        "#20\n",
        "torch.save(model.state_dict(), \"MNIST.pth\")\n",
        "model.state_dict()"
      ],
      "metadata": {
        "id": "p9Tq1Ttsfbyz"
      },
      "execution_count": null,
      "outputs": []
    },
    {
      "cell_type": "code",
      "source": [
        "saved_model=MNISTMODEL(input_size, hidden_size1, hidden_size2, output_size)\n",
        "saved_model.load_state_dict(torch.load('MNIST.pth'))\n",
        "saved_model.state_dict()"
      ],
      "metadata": {
        "colab": {
          "base_uri": "https://localhost:8080/"
        },
        "id": "VgEx63M7ouwh",
        "outputId": "1b21cc7e-dcc9-4b15-f01c-57ac8907537d"
      },
      "execution_count": 30,
      "outputs": [
        {
          "output_type": "stream",
          "name": "stderr",
          "text": [
            "<ipython-input-30-450330895b00>:2: FutureWarning: You are using `torch.load` with `weights_only=False` (the current default value), which uses the default pickle module implicitly. It is possible to construct malicious pickle data which will execute arbitrary code during unpickling (See https://github.com/pytorch/pytorch/blob/main/SECURITY.md#untrusted-models for more details). In a future release, the default value for `weights_only` will be flipped to `True`. This limits the functions that could be executed during unpickling. Arbitrary objects will no longer be allowed to be loaded via this mode unless they are explicitly allowlisted by the user via `torch.serialization.add_safe_globals`. We recommend you start setting `weights_only=True` for any use case where you don't have full control of the loaded file. Please open an issue on GitHub for any issues related to this experimental feature.\n",
            "  saved_model.load_state_dict(torch.load('MNIST.pth'))\n"
          ]
        },
        {
          "output_type": "execute_result",
          "data": {
            "text/plain": [
              "OrderedDict([('linear1.weight',\n",
              "              tensor([[ 0.0309, -0.0147, -0.0004,  ..., -0.0085,  0.0245, -0.0021],\n",
              "                      [-0.0130, -0.0012,  0.0206,  ..., -0.0162, -0.0222,  0.0155],\n",
              "                      [ 0.0034, -0.0287, -0.0199,  ...,  0.0281,  0.0024, -0.0180],\n",
              "                      ...,\n",
              "                      [-0.0086, -0.0159, -0.0022,  ..., -0.0001,  0.0351, -0.0111],\n",
              "                      [-0.0244, -0.0195,  0.0345,  ..., -0.0222, -0.0320,  0.0198],\n",
              "                      [-0.0317, -0.0181,  0.0255,  ..., -0.0042, -0.0212,  0.0119]])),\n",
              "             ('linear1.bias',\n",
              "              tensor([ 3.1300e-02,  4.4668e-02,  1.5617e-02,  1.8764e-02,  7.5081e-02,\n",
              "                       3.0093e-02, -1.8613e-02, -1.1791e-02, -4.8617e-03,  6.2139e-02,\n",
              "                      -1.3675e-03,  5.0789e-02, -4.3445e-02, -4.8329e-04,  4.3572e-03,\n",
              "                       2.2874e-02, -4.8038e-05, -8.8091e-03,  9.5547e-04,  1.8695e-02,\n",
              "                       3.4536e-02,  3.1684e-02, -1.5120e-03,  2.5258e-02, -1.3219e-02,\n",
              "                       1.5424e-02,  3.8381e-02, -1.5327e-02,  2.8312e-02,  3.5237e-03,\n",
              "                       3.3000e-02,  3.1404e-02, -3.8400e-02,  2.7971e-04,  2.6963e-02,\n",
              "                       2.3869e-03,  3.5472e-02,  2.5999e-03,  5.4101e-02,  4.3444e-02,\n",
              "                       3.4469e-02,  2.6826e-02,  3.1174e-02,  1.2653e-02, -1.8914e-02,\n",
              "                      -2.4741e-02,  1.7945e-02,  1.2408e-02,  2.5572e-03, -2.7390e-02,\n",
              "                       3.3883e-03, -1.2373e-02, -3.1246e-03, -1.7508e-02,  2.9219e-03,\n",
              "                       6.7000e-02, -1.7690e-02, -2.9594e-02, -1.3431e-02, -2.9810e-02,\n",
              "                       5.8251e-02,  1.4077e-02,  1.8054e-02,  1.7867e-02,  3.1247e-03,\n",
              "                      -1.1899e-02,  1.6176e-02,  1.8433e-02,  2.1607e-02,  1.3164e-02,\n",
              "                       4.9528e-02, -2.8842e-03,  3.2954e-02,  4.0818e-02,  1.0200e-02,\n",
              "                      -3.2594e-03,  1.1853e-02,  2.9393e-02,  5.4860e-03,  2.2657e-02,\n",
              "                      -4.6796e-03,  3.6237e-02, -2.1372e-02,  4.8607e-02,  2.3330e-02,\n",
              "                      -9.0065e-03,  6.6906e-02, -1.8633e-03,  6.2638e-02,  2.6532e-02,\n",
              "                       1.7915e-03,  1.2640e-02,  2.7376e-02,  1.7805e-03, -5.9608e-03,\n",
              "                       7.5799e-03, -1.3630e-02, -2.4104e-02, -1.1154e-02,  8.9888e-03,\n",
              "                      -1.1695e-02,  3.2910e-03, -9.8046e-04, -2.3687e-03, -8.4281e-03,\n",
              "                       2.6657e-02,  3.1641e-02,  2.2554e-02,  5.8454e-02,  1.0853e-02,\n",
              "                      -1.6064e-03,  2.3368e-02,  2.1805e-02,  7.9496e-03,  5.7527e-02,\n",
              "                       5.8119e-02,  9.4656e-03,  1.8030e-02,  1.2977e-02, -2.2349e-02,\n",
              "                      -6.9033e-03,  3.0121e-02,  2.5056e-02,  5.3673e-02, -1.3923e-02,\n",
              "                       1.5385e-02,  2.8895e-03,  3.1350e-02,  1.6887e-02, -9.3610e-03,\n",
              "                      -1.1166e-02,  3.6582e-02, -9.0971e-03, -1.6133e-02, -4.3950e-03,\n",
              "                       3.1403e-02,  8.8958e-02,  4.0766e-02,  9.0449e-04, -5.2000e-03,\n",
              "                       3.3253e-02,  4.4971e-02,  1.2372e-02, -2.5110e-02, -9.3445e-03,\n",
              "                       5.5238e-03, -2.3112e-03,  3.0232e-02, -3.6991e-03, -5.7369e-02,\n",
              "                       9.7862e-03,  1.2303e-02,  1.2834e-02,  4.6157e-02, -4.7057e-03,\n",
              "                       2.4245e-02, -4.0562e-03,  3.8199e-02,  1.7623e-02, -6.5337e-03,\n",
              "                      -8.9164e-03,  3.1517e-03, -1.0335e-02, -4.0038e-03,  1.4224e-02,\n",
              "                      -1.2738e-02,  4.5772e-03,  1.2882e-02,  1.7224e-02, -1.3284e-02,\n",
              "                      -2.6071e-02,  2.7573e-02,  3.8827e-02, -2.2734e-02,  5.4975e-02,\n",
              "                       1.6186e-02,  2.9165e-02,  4.4567e-02,  2.2472e-02, -1.6668e-02,\n",
              "                      -2.2445e-02,  3.0197e-03,  2.8660e-03,  2.8444e-02, -1.1127e-02,\n",
              "                       2.2759e-02,  2.0446e-02, -3.0901e-02,  4.1147e-02,  1.8969e-02,\n",
              "                       3.5989e-02,  3.3546e-02,  4.3881e-02, -1.2908e-02,  2.4537e-02,\n",
              "                      -2.0864e-02, -2.7773e-02,  1.7871e-02,  7.9657e-03,  2.5141e-03,\n",
              "                      -1.1684e-02, -1.7226e-02, -7.5098e-03,  4.0772e-03,  1.1397e-02,\n",
              "                      -2.6828e-02, -2.6750e-02,  4.8564e-03, -5.2550e-03,  2.3433e-02,\n",
              "                      -5.0912e-04, -5.8128e-03,  1.0589e-02,  3.4642e-03,  3.0865e-03,\n",
              "                       1.0881e-02,  2.5855e-03, -9.6244e-03,  1.8612e-02, -6.3014e-03,\n",
              "                       7.2749e-02,  3.4298e-02,  1.2446e-02,  5.1609e-02,  3.5244e-02,\n",
              "                      -1.4832e-03, -1.4833e-02,  3.9902e-02, -3.3306e-03, -2.3232e-02,\n",
              "                       3.2726e-02,  1.5478e-02,  3.8977e-02, -1.3996e-02,  3.2112e-02,\n",
              "                       4.6060e-02, -2.7657e-02,  2.0260e-03,  4.0493e-02, -1.8305e-02,\n",
              "                       4.7943e-02, -2.4611e-02,  4.3990e-02, -1.9809e-02,  2.7781e-02,\n",
              "                      -3.1152e-02, -8.9023e-03,  3.4385e-02, -7.9958e-04, -5.4336e-03,\n",
              "                       5.6279e-03,  4.2387e-02,  1.2974e-02,  8.4533e-03,  4.0302e-02,\n",
              "                      -1.7264e-02])),\n",
              "             ('linear2.weight',\n",
              "              tensor([[-0.0186, -0.0099,  0.0490,  ..., -0.0438,  0.0123, -0.0448],\n",
              "                      [-0.0043,  0.0246,  0.0066,  ...,  0.0266, -0.0406, -0.0535],\n",
              "                      [ 0.0606,  0.0427,  0.0554,  ..., -0.0104, -0.0073,  0.0510],\n",
              "                      ...,\n",
              "                      [ 0.0561,  0.1121, -0.0279,  ..., -0.0345, -0.0464, -0.0217],\n",
              "                      [-0.0029,  0.0203,  0.0415,  ...,  0.0784, -0.0160,  0.0027],\n",
              "                      [ 0.0509, -0.0426, -0.0087,  ...,  0.0157,  0.0180,  0.0369]])),\n",
              "             ('linear2.bias',\n",
              "              tensor([-0.0035,  0.0083, -0.0166, -0.0502, -0.0510,  0.0565, -0.0075,  0.0357,\n",
              "                       0.0227,  0.0498, -0.0324, -0.0316, -0.0422,  0.0147, -0.0047, -0.0166,\n",
              "                      -0.0316,  0.0776, -0.0534,  0.0251,  0.0454, -0.0063, -0.0546, -0.0681,\n",
              "                       0.0847,  0.0204,  0.0330,  0.0519,  0.0481, -0.0634,  0.0365, -0.0385,\n",
              "                      -0.0605, -0.0032,  0.0330,  0.0501, -0.0303, -0.0156,  0.0093,  0.0131,\n",
              "                      -0.0858,  0.0261,  0.0513,  0.0905,  0.0076,  0.0441,  0.0063,  0.0328,\n",
              "                      -0.0335,  0.0192,  0.0032,  0.0577,  0.0881,  0.0351, -0.0431,  0.0105,\n",
              "                       0.0263,  0.0753,  0.0631,  0.0614,  0.0768,  0.0364,  0.0651,  0.0069,\n",
              "                      -0.0247,  0.0035,  0.0113, -0.0058, -0.0380, -0.0353, -0.0597, -0.0412,\n",
              "                      -0.0388,  0.0793,  0.0358,  0.0523,  0.0254, -0.0391, -0.0163,  0.0803,\n",
              "                       0.0277,  0.0331, -0.0104,  0.0342,  0.1109, -0.0046, -0.0359,  0.0353,\n",
              "                      -0.0369,  0.0861,  0.0907, -0.0493, -0.0237,  0.0363, -0.0193,  0.1013,\n",
              "                       0.0378,  0.0170,  0.0049,  0.0406, -0.0305, -0.0227,  0.0850,  0.0116,\n",
              "                       0.0711,  0.0862,  0.0694, -0.0314,  0.0431,  0.0159, -0.0146,  0.0022,\n",
              "                       0.0464,  0.0451,  0.0349,  0.0890,  0.0021,  0.0150, -0.0145,  0.0490,\n",
              "                      -0.0484,  0.0679, -0.0345,  0.0442,  0.0972,  0.0649,  0.0765, -0.0307])),\n",
              "             ('linear3.weight',\n",
              "              tensor([[-0.0707, -0.0133,  0.0185,  ..., -0.2258, -0.1576, -0.0962],\n",
              "                      [-0.1328, -0.0961,  0.0518,  ..., -0.2019, -0.0448,  0.1603],\n",
              "                      [ 0.1161, -0.1627, -0.0339,  ...,  0.0598,  0.0801, -0.0587],\n",
              "                      ...,\n",
              "                      [-0.1766,  0.0844, -0.0004,  ...,  0.2951, -0.0714,  0.0580],\n",
              "                      [ 0.1224,  0.0200,  0.0678,  ...,  0.1297, -0.0595, -0.0491],\n",
              "                      [-0.0462,  0.0708,  0.0522,  ...,  0.2798,  0.1227, -0.1291]])),\n",
              "             ('linear3.bias',\n",
              "              tensor([-0.1349,  0.1772, -0.0380,  0.0647,  0.0166,  0.1594,  0.0326,  0.0499,\n",
              "                      -0.1550, -0.0564]))])"
            ]
          },
          "metadata": {},
          "execution_count": 30
        }
      ]
    },
    {
      "cell_type": "code",
      "source": [],
      "metadata": {
        "id": "CXI70r7OpI8w"
      },
      "execution_count": null,
      "outputs": []
    }
  ]
}