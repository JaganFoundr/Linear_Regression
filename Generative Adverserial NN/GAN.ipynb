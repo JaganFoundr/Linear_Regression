{
  "nbformat": 4,
  "nbformat_minor": 0,
  "metadata": {
    "colab": {
      "provenance": [],
      "gpuType": "V28",
      "authorship_tag": "ABX9TyOAoPEQuq0wqN0oAfdVf2/X",
      "include_colab_link": true
    },
    "kernelspec": {
      "name": "python3",
      "display_name": "Python 3"
    },
    "language_info": {
      "name": "python"
    },
    "accelerator": "TPU"
  },
  "cells": [
    {
      "cell_type": "markdown",
      "metadata": {
        "id": "view-in-github",
        "colab_type": "text"
      },
      "source": [
        "<a href=\"https://colab.research.google.com/github/JaganFoundr/PyTorchNN/blob/main/Generative%20Adverserial%20NN/GAN.ipynb\" target=\"_parent\"><img src=\"https://colab.research.google.com/assets/colab-badge.svg\" alt=\"Open In Colab\"/></a>"
      ]
    },
    {
      "cell_type": "code",
      "execution_count": 96,
      "metadata": {
        "id": "ArI6kk38hU1K"
      },
      "outputs": [],
      "source": [
        "#1\n",
        "import torch\n",
        "import torchvision\n",
        "from torchvision.datasets import MNIST\n",
        "import torchvision.transforms as tt\n",
        "import matplotlib.pyplot as plt\n",
        "import torch.nn as nn\n",
        "from torch.utils.data import DataLoader"
      ]
    },
    {
      "cell_type": "code",
      "source": [
        "#2\n",
        "dataset=MNIST(root='./data', download=True, train=True,transform=tt.Compose([tt.ToTensor(),\n",
        "                                                                             tt.Normalize(mean=(0.5,),std=(0.5,))\n",
        "                                                                             ]) )"
      ],
      "metadata": {
        "id": "PK5RKkdFiBQi"
      },
      "execution_count": 97,
      "outputs": []
    },
    {
      "cell_type": "code",
      "source": [
        "#3\n",
        "images, labels = dataset[900]\n",
        "print(\"images: \",images[:,10:15,10:15])\n",
        "print(\"label is: \",labels)\n",
        "\n",
        "print(\"torch min: \",torch.max(images),\"torch max: \", torch.min(images))\n",
        "\n",
        "#denormalising image data which was normalised before ,for better visual treatment\n",
        "def denorm(x):\n",
        "  out = (x+1)/2\n",
        "  return out.clamp(0,1)\n",
        "\n",
        "images=denorm(images)\n",
        "plt.imshow(images[0], cmap='gray')\n",
        "plt.show()\n",
        "print(\"labels: \", labels)"
      ],
      "metadata": {
        "colab": {
          "base_uri": "https://localhost:8080/",
          "height": 569
        },
        "id": "_BtuHCFyjkW0",
        "outputId": "38eadaf8-c8ca-4653-b48a-83c9a3aa864e"
      },
      "execution_count": 98,
      "outputs": [
        {
          "output_type": "stream",
          "name": "stdout",
          "text": [
            "images:  tensor([[[-0.2392,  0.9608, -0.8275, -1.0000, -1.0000],\n",
            "         [ 0.7804,  0.1451, -1.0000, -1.0000, -1.0000],\n",
            "         [ 0.9922, -0.5843, -1.0000, -1.0000, -0.9529],\n",
            "         [ 0.9922, -0.8667, -1.0000, -0.5216,  0.5686],\n",
            "         [ 0.9137,  0.5373,  0.2392,  0.9137,  0.2863]]])\n",
            "label is:  9\n",
            "torch min:  tensor(1.) torch max:  tensor(-1.)\n"
          ]
        },
        {
          "output_type": "display_data",
          "data": {
            "text/plain": [
              "<Figure size 640x480 with 1 Axes>"
            ],
            "image/png": "[encoded data removed]"
          },
          "metadata": {}
        },
        {
          "output_type": "stream",
          "name": "stdout",
          "text": [
            "labels:  9\n"
          ]
        }
      ]
    },
    {
      "cell_type": "code",
      "source": [
        "#4\n",
        "batch_size=100\n",
        "trainloader = DataLoader(dataset, batch_size, shuffle=True)\n",
        "\n",
        "for images_batch, labels_batch in trainloader:\n",
        "  pass\n",
        "print(\"images shape: \",images.shape)\n",
        "plt.imshow(images_batch[0][0], cmap='gray')\n",
        "print(\"label batch: \",labels_batch)"
      ],
      "metadata": {
        "colab": {
          "base_uri": "https://localhost:8080/",
          "height": 554
        },
        "id": "3FDB5_ejj3F5",
        "outputId": "6f8d8d21-5f35-4116-9eb7-69815d0a5ebe"
      },
      "execution_count": 99,
      "outputs": [
        {
          "output_type": "stream",
          "name": "stdout",
          "text": [
            "images shape:  torch.Size([1, 28, 28])\n",
            "label batch:  tensor([6, 2, 7, 4, 7, 9, 7, 6, 4, 6, 3, 7, 6, 1, 6, 0, 8, 4, 7, 6, 9, 3, 5, 5,\n",
            "        6, 0, 8, 3, 1, 7, 1, 1, 3, 1, 2, 8, 5, 1, 7, 9, 4, 1, 3, 5, 1, 0, 3, 6,\n",
            "        2, 9, 3, 8, 9, 3, 2, 9, 0, 2, 1, 5, 1, 7, 9, 2, 8, 7, 7, 1, 7, 2, 3, 6,\n",
            "        0, 8, 3, 3, 4, 7, 1, 7, 7, 7, 0, 4, 4, 2, 7, 4, 9, 1, 8, 9, 6, 4, 9, 0,\n",
            "        4, 6, 5, 3])\n"
          ]
        },
        {
          "output_type": "display_data",
          "data": {
            "text/plain": [
              "<Figure size 640x480 with 1 Axes>"
            ],
            "image/png": "[encoded data removed]"
          },
          "metadata": {}
        }
      ]
    },
    {
      "cell_type": "code",
      "source": [
        "#5\n",
        "#defining the discriminator model\n",
        "image_size=784\n",
        "hidden_size=256\n",
        "discriminator=nn.Sequential(#feed forward nn\n",
        "    nn.Linear(image_size, hidden_size),\n",
        "    nn.LeakyReLU(0.2), # leaky relu is slightly different from relu, which multiplies the value passed as an argument when x is negative\n",
        "    #where the relu gives 0 values to the gradient , and leaky relu leaks some negatives values to the gradient , not only 0s\n",
        "                    #in order for the model to learn and complex patterns\n",
        "    nn.Linear(hidden_size, hidden_size),\n",
        "    nn.LeakyReLU(0.2),\n",
        "\n",
        "    nn.Linear(hidden_size, 1),\n",
        "    nn.Sigmoid() # sigmoid activation function is used to predict probablities between 0 and 1.\n",
        ")"
      ],
      "metadata": {
        "id": "86UkBoUOnyqr"
      },
      "execution_count": 100,
      "outputs": []
    },
    {
      "cell_type": "code",
      "source": [
        "discriminator"
      ],
      "metadata": {
        "colab": {
          "base_uri": "https://localhost:8080/"
        },
        "id": "yGRSQJY1uzUW",
        "outputId": "9db77d2e-5ccd-4770-c555-bc9f8a732e8c"
      },
      "execution_count": 101,
      "outputs": [
        {
          "output_type": "execute_result",
          "data": {
            "text/plain": [
              "Sequential(\n",
              "  (0): Linear(in_features=784, out_features=256, bias=True)\n",
              "  (1): LeakyReLU(negative_slope=0.2)\n",
              "  (2): Linear(in_features=256, out_features=256, bias=True)\n",
              "  (3): LeakyReLU(negative_slope=0.2)\n",
              "  (4): Linear(in_features=256, out_features=1, bias=True)\n",
              "  (5): Sigmoid()\n",
              ")"
            ]
          },
          "metadata": {},
          "execution_count": 101
        }
      ]
    },
    {
      "cell_type": "code",
      "source": [
        "#6\n",
        "#defining the generator model\n",
        "latent_size=64 # this is the input to the generator model which acts as a seed to this model to predict complex patterns and outputs\n",
        "# provides the generator with more information\n",
        "generator=nn.Sequential(\n",
        "    nn.Linear(latent_size, hidden_size),\n",
        "    nn.ReLU(), #relu gives good result in generator and leaky relu gives good results in discriminator.\n",
        "\n",
        "    nn.Linear(hidden_size, hidden_size),\n",
        "    nn.ReLU(),\n",
        "\n",
        "    nn.Linear(hidden_size, image_size),\n",
        "    nn.Tanh()#hyperbolic tangent function from -1 to 1\n",
        "\n",
        ")"
      ],
      "metadata": {
        "id": "sVhnlD9zF6Ow"
      },
      "execution_count": 102,
      "outputs": []
    },
    {
      "cell_type": "code",
      "source": [
        "generator"
      ],
      "metadata": {
        "colab": {
          "base_uri": "https://localhost:8080/"
        },
        "id": "RcVZZUrJLx-Y",
        "outputId": "3f74595f-4dc7-41b3-be8f-3b145e308846"
      },
      "execution_count": 103,
      "outputs": [
        {
          "output_type": "execute_result",
          "data": {
            "text/plain": [
              "Sequential(\n",
              "  (0): Linear(in_features=64, out_features=256, bias=True)\n",
              "  (1): ReLU()\n",
              "  (2): Linear(in_features=256, out_features=256, bias=True)\n",
              "  (3): ReLU()\n",
              "  (4): Linear(in_features=256, out_features=784, bias=True)\n",
              "  (5): Tanh()\n",
              ")"
            ]
          },
          "metadata": {},
          "execution_count": 103
        }
      ]
    },
    {
      "cell_type": "code",
      "source": [
        "#7 generating images\n",
        "prediction = generator(torch.randn(2,latent_size))\n",
        "print(\"prediction is: \", prediction)\n",
        "print(\"prediction shape: \",prediction.shape)"
      ],
      "metadata": {
        "colab": {
          "base_uri": "https://localhost:8080/"
        },
        "id": "_32OqNxfvJ_6",
        "outputId": "a2cc34de-2ce4-4e08-c068-8a315298f225"
      },
      "execution_count": 104,
      "outputs": [
        {
          "output_type": "stream",
          "name": "stdout",
          "text": [
            "prediction is:  tensor([[ 0.0539, -0.0136,  0.0949,  ..., -0.1014,  0.2532, -0.0727],\n",
            "        [-0.0471, -0.0587, -0.0405,  ...,  0.0737,  0.1955,  0.1233]],\n",
            "       grad_fn=<TanhBackward0>)\n",
            "prediction shape:  torch.Size([2, 784])\n"
          ]
        }
      ]
    },
    {
      "cell_type": "code",
      "source": [
        "#reshape the picture back to its size, denormalize the picture and then plot the images 8\n",
        "generated=denorm(prediction.reshape(-1,28,28)).detach()\n",
        "plt.imshow(generated[0],cmap='gray')"
      ],
      "metadata": {
        "colab": {
          "base_uri": "https://localhost:8080/",
          "height": 447
        },
        "id": "APhmgbQowjiL",
        "outputId": "cbad53c3-99af-4cc3-948e-eb30c92d3cc9"
      },
      "execution_count": 105,
      "outputs": [
        {
          "output_type": "execute_result",
          "data": {
            "text/plain": [
              "<matplotlib.image.AxesImage at 0x787ab5c0bbb0>"
            ]
          },
          "metadata": {},
          "execution_count": 105
        },
        {
          "output_type": "display_data",
          "data": {
            "text/plain": [
              "<Figure size 640x480 with 1 Axes>"
            ],
            "image/png": "[encoded data removed]"
          },
          "metadata": {}
        }
      ]
    },
    {
      "cell_type": "code",
      "source": [
        "plt.imshow(generated[1],cmap='gray')"
      ],
      "metadata": {
        "colab": {
          "base_uri": "https://localhost:8080/",
          "height": 447
        },
        "id": "I4ebKNfMxQTc",
        "outputId": "e5c7a653-38f8-4543-9f87-0a4a769cd171"
      },
      "execution_count": 106,
      "outputs": [
        {
          "output_type": "execute_result",
          "data": {
            "text/plain": [
              "<matplotlib.image.AxesImage at 0x787ab5f17b50>"
            ]
          },
          "metadata": {},
          "execution_count": 106
        },
        {
          "output_type": "display_data",
          "data": {
            "text/plain": [
              "<Figure size 640x480 with 1 Axes>"
            ],
            "image/png": "[encoded data removed]"
          },
          "metadata": {}
        }
      ]
    },
    {
      "cell_type": "code",
      "source": [
        "#9 loss function discriminator , as it is a binary classification model, we can use binary cross entropy loss\n",
        "loss_fn=nn.BCELoss()"
      ],
      "metadata": {
        "id": "5ZdaJHRMxzW0"
      },
      "execution_count": 107,
      "outputs": []
    },
    {
      "cell_type": "code",
      "source": [
        "#10 discriminator and generator optimizer\n",
        "disc_opt=torch.optim.Adam(discriminator.parameters(), lr=0.0002)\n",
        "gener_opt=torch.optim.Adam(generator.parameters(), lr=0.0002)"
      ],
      "metadata": {
        "id": "0bdAXZJz0UUo"
      },
      "execution_count": 108,
      "outputs": []
    },
    {
      "cell_type": "code",
      "source": [
        "#11 creating a reset grad function\n",
        "def reset_grad():\n",
        "  discriminator.zero_grad()\n",
        "  generator.zero_grad()"
      ],
      "metadata": {
        "id": "xjSt4FY10i3B"
      },
      "execution_count": 109,
      "outputs": []
    },
    {
      "cell_type": "code",
      "source": [
        "#12 discriminator training function\n",
        "def discriminator_training(images):\n",
        "\n",
        "  #creating the labels for real and fake images\n",
        "  real_label = torch.ones(batch_size,1)\n",
        "  fake_label = torch.zeros(batch_size,1)\n",
        "\n",
        "  #real image loss\n",
        "  discriminator_output = discriminator(images)\n",
        "  discriminator_real_loss = loss_fn(discriminator_output, real_label)\n",
        "  real_score = discriminator_output\n",
        "\n",
        "  #fake image loss\n",
        "  images = torch.randn(batch_size, latent_size)\n",
        "  fake_images = generator(images)\n",
        "  discriminator_output = discriminator(fake_images)\n",
        "  discriminator_fake_loss = loss_fn(discriminator_output, fake_label)\n",
        "  fake_score = discriminator_output\n",
        "\n",
        "  #combine both the losses\n",
        "  total_d_loss = discriminator_real_loss+discriminator_fake_loss\n",
        "\n",
        "  #reset all the gradients\n",
        "  reset_grad()\n",
        "\n",
        "  #compute the gradients\n",
        "  total_d_loss.backward()\n",
        "\n",
        "  #update the weights\n",
        "  disc_opt.step()\n",
        "\n",
        "  return total_d_loss, real_score, fake_score"
      ],
      "metadata": {
        "id": "wzPoVEir14m-"
      },
      "execution_count": 110,
      "outputs": []
    },
    {
      "cell_type": "code",
      "source": [
        "#13 generator training function\n",
        "def generator_training():\n",
        "\n",
        "  #create fake images and calculate the gen loss\n",
        "  images = torch.randn(batch_size,latent_size)\n",
        "  fake_images = generator(images)\n",
        "  labels = torch.ones(batch_size,1) #trick to fool the discriminator think that the predicted labels are close to one.\n",
        "  gen_loss = loss_fn(discriminator(fake_images),labels) #to make the generator better\n",
        "\n",
        "  #backpropogation\n",
        "  reset_grad()\n",
        "  gen_loss.backward()\n",
        "  gener_opt.step()\n",
        "\n",
        "  return gen_loss, fake_images"
      ],
      "metadata": {
        "id": "I61bt5s42cVG"
      },
      "execution_count": 111,
      "outputs": []
    },
    {
      "cell_type": "code",
      "source": [
        "#14 training the model and inspecting the results while training\n",
        "import os\n",
        "\n",
        "dir='sample'\n",
        "if not os.path.exists(dir):\n",
        "  os.makedirs(dir)"
      ],
      "metadata": {
        "id": "iFXH_GQ18R57"
      },
      "execution_count": 112,
      "outputs": []
    },
    {
      "cell_type": "code",
      "source": [
        "#15 lets save some real mnist images and put inside the directory\n",
        "from IPython.display import Image\n",
        "from torchvision.utils import save_image\n",
        "\n",
        "for images,_ in trainloader:\n",
        "  images=images.reshape(images.size(0),1,28,28)\n",
        "  save_image(denorm(images),os.path.join(dir, 'sample_real_image.png'),nrow=10)\n",
        "  break\n",
        "\n",
        "Image(os.path.join(dir, 'sample_real_image.png'))"
      ],
      "metadata": {
        "colab": {
          "base_uri": "https://localhost:8080/",
          "height": 319
        },
        "id": "iim-4Iq5_wj4",
        "outputId": "1b22df42-4161-43c0-ba2c-64ebcca981ab"
      },
      "execution_count": 113,
      "outputs": [
        {
          "output_type": "execute_result",
          "data": {
            "image/png": "[encoded data removed]",
            "text/plain": [
              "<IPython.core.display.Image object>"
            ]
          },
          "metadata": {},
          "execution_count": 113
        }
      ]
    },
    {
      "cell_type": "code",
      "source": [
        "#16 saving all the fake images for visual inspection\n",
        "\n",
        "sample_vector = torch.randn(batch_size,latent_size)\n",
        "\n",
        "def save_fake_images(index):\n",
        "  fake_images = generator(sample_vector)\n",
        "  fake_images=fake_images.reshape(fake_images.size(0),1,28,28)\n",
        "  fake_fname=f'fake_images{index}.png'\n",
        "  print(\"saving.......\",fake_fname)\n",
        "  save_image(denorm(fake_images), os.path.join(dir,fake_fname),nrow=10)\n",
        "\n",
        "#before training\n",
        "save_fake_images(12)\n",
        "Image(os.path.join(dir, 'fake_images.png'))"
      ],
      "metadata": {
        "colab": {
          "base_uri": "https://localhost:8080/",
          "height": 336
        },
        "id": "dzXAV3YaA9ab",
        "outputId": "e70c3016-2cc2-46a9-8f78-9b4bddbc7d67"
      },
      "execution_count": 114,
      "outputs": [
        {
          "output_type": "stream",
          "name": "stdout",
          "text": [
            "saving....... fake_images12.png\n"
          ]
        },
        {
          "output_type": "execute_result",
          "data": {
            "image/png": "[encoded data removed]",
            "text/plain": [
              "<IPython.core.display.Image object>"
            ]
          },
          "metadata": {},
          "execution_count": 114
        }
      ]
    },
    {
      "cell_type": "code",
      "source": [
        "#17 we are now ready to train the model, first train the discriminator then the generator\n",
        "\n",
        "nepochs=100\n",
        "d_losses,g_losses,real_scores,fake_scores=[],[],[],[] #list for storing the losses and the scores\n",
        "\n",
        "for epoch in range(nepochs): # main training loop\n",
        "  for images,_ in trainloader: #putting the training loader in the training loop\n",
        "\n",
        "    images = images.reshape(batch_size,-1) # loading a batch of images by reshaping it.\n",
        "\n",
        "    total_d_loss, real_score, fake_score = discriminator_training(images) # training the discriminator\n",
        "\n",
        "    gen_losses, fake_images = generator_training() # training the generator\n",
        "\n",
        "    d_losses.append(total_d_loss.item()) #appending all the values to be displayed in a list\n",
        "    g_losses.append(gen_losses.item()) # same as above\n",
        "\n",
        "    real_scores.append(real_score.mean().item()) # same as above\n",
        "    fake_scores.append(fake_score.mean().item()) # same as above\n",
        "\n",
        "  print(f\"epoch{epoch+1}/{nepochs}: \") # display the values.\n",
        "\n",
        "  print(f\"discriminator loss: {total_d_loss.item():.4f}\")\n",
        "  print(f\"generator loss: {gen_losses.item():.4f}\")\n",
        "\n",
        "  print(f\"real score: {real_score.mean().item():.2f}\")\n",
        "  print(f\"fake score: {fake_score.mean().item():.2f}\")\n",
        "\n",
        "\n",
        "  save_fake_images(epoch+1) # saving each fake image after each epoch\n",
        "\n",
        "\n",
        "\n"
      ],
      "metadata": {
        "colab": {
          "base_uri": "https://localhost:8080/"
        },
        "id": "LnxG87C7EWns",
        "outputId": "2fb7d21c-f89a-4953-9f09-6df8accc4390"
      },
      "execution_count": 117,
      "outputs": [
        {
          "output_type": "stream",
          "name": "stdout",
          "text": [
            "epoch1/100: \n",
            "discriminator loss: 0.2691\n",
            "generator loss: 4.2346\n",
            "real score: 0.95\n",
            "fake score: 0.14\n",
            "saving....... fake_images1.png\n",
            "epoch2/100: \n",
            "discriminator loss: 0.5265\n",
            "generator loss: 2.6977\n",
            "real score: 0.88\n",
            "fake score: 0.25\n",
            "saving....... fake_images2.png\n",
            "epoch3/100: \n",
            "discriminator loss: 0.4055\n",
            "generator loss: 3.6490\n",
            "real score: 0.88\n",
            "fake score: 0.18\n",
            "saving....... fake_images3.png\n",
            "epoch4/100: \n",
            "discriminator loss: 0.0715\n",
            "generator loss: 3.9508\n",
            "real score: 0.97\n",
            "fake score: 0.03\n",
            "saving....... fake_images4.png\n",
            "epoch5/100: \n",
            "discriminator loss: 0.1398\n",
            "generator loss: 5.9004\n",
            "real score: 0.93\n",
            "fake score: 0.02\n",
            "saving....... fake_images5.png\n",
            "epoch6/100: \n",
            "discriminator loss: 0.0848\n",
            "generator loss: 4.5296\n",
            "real score: 0.98\n",
            "fake score: 0.05\n",
            "saving....... fake_images6.png\n",
            "epoch7/100: \n",
            "discriminator loss: 0.1419\n",
            "generator loss: 6.5098\n",
            "real score: 0.98\n",
            "fake score: 0.03\n",
            "saving....... fake_images7.png\n",
            "epoch8/100: \n",
            "discriminator loss: 0.1894\n",
            "generator loss: 5.9936\n",
            "real score: 0.97\n",
            "fake score: 0.05\n",
            "saving....... fake_images8.png\n",
            "epoch9/100: \n",
            "discriminator loss: 0.0887\n",
            "generator loss: 6.2020\n",
            "real score: 0.97\n",
            "fake score: 0.04\n",
            "saving....... fake_images9.png\n",
            "epoch10/100: \n",
            "discriminator loss: 0.2094\n",
            "generator loss: 4.1503\n",
            "real score: 0.97\n",
            "fake score: 0.09\n",
            "saving....... fake_images10.png\n",
            "epoch11/100: \n",
            "discriminator loss: 0.2500\n",
            "generator loss: 4.4928\n",
            "real score: 0.96\n",
            "fake score: 0.12\n",
            "saving....... fake_images11.png\n",
            "epoch12/100: \n",
            "discriminator loss: 0.2761\n",
            "generator loss: 6.1226\n",
            "real score: 0.97\n",
            "fake score: 0.12\n",
            "saving....... fake_images12.png\n",
            "epoch13/100: \n",
            "discriminator loss: 0.0996\n",
            "generator loss: 4.0758\n",
            "real score: 0.95\n",
            "fake score: 0.03\n",
            "saving....... fake_images13.png\n",
            "epoch14/100: \n",
            "discriminator loss: 0.3595\n",
            "generator loss: 4.7428\n",
            "real score: 0.88\n",
            "fake score: 0.03\n",
            "saving....... fake_images14.png\n",
            "epoch15/100: \n",
            "discriminator loss: 0.2739\n",
            "generator loss: 4.2936\n",
            "real score: 0.90\n",
            "fake score: 0.06\n",
            "saving....... fake_images15.png\n",
            "epoch16/100: \n",
            "discriminator loss: 0.1299\n",
            "generator loss: 5.1981\n",
            "real score: 0.99\n",
            "fake score: 0.09\n",
            "saving....... fake_images16.png\n",
            "epoch17/100: \n",
            "discriminator loss: 0.5069\n",
            "generator loss: 2.5998\n",
            "real score: 0.88\n",
            "fake score: 0.14\n",
            "saving....... fake_images17.png\n",
            "epoch18/100: \n",
            "discriminator loss: 0.4954\n",
            "generator loss: 4.6972\n",
            "real score: 0.90\n",
            "fake score: 0.17\n",
            "saving....... fake_images18.png\n",
            "epoch19/100: \n",
            "discriminator loss: 0.2071\n",
            "generator loss: 3.6553\n",
            "real score: 0.92\n",
            "fake score: 0.07\n",
            "saving....... fake_images19.png\n",
            "epoch20/100: \n",
            "discriminator loss: 0.2568\n",
            "generator loss: 4.6398\n",
            "real score: 0.95\n",
            "fake score: 0.12\n",
            "saving....... fake_images20.png\n",
            "epoch21/100: \n",
            "discriminator loss: 0.3648\n",
            "generator loss: 3.6887\n",
            "real score: 0.95\n",
            "fake score: 0.18\n",
            "saving....... fake_images21.png\n",
            "epoch22/100: \n",
            "discriminator loss: 0.3086\n",
            "generator loss: 4.0110\n",
            "real score: 0.88\n",
            "fake score: 0.06\n",
            "saving....... fake_images22.png\n",
            "epoch23/100: \n",
            "discriminator loss: 0.3019\n",
            "generator loss: 4.8694\n",
            "real score: 0.91\n",
            "fake score: 0.10\n",
            "saving....... fake_images23.png\n",
            "epoch24/100: \n",
            "discriminator loss: 0.2157\n",
            "generator loss: 4.8896\n",
            "real score: 0.94\n",
            "fake score: 0.07\n",
            "saving....... fake_images24.png\n",
            "epoch25/100: \n",
            "discriminator loss: 0.4748\n",
            "generator loss: 2.7990\n",
            "real score: 0.88\n",
            "fake score: 0.14\n",
            "saving....... fake_images25.png\n",
            "epoch26/100: \n",
            "discriminator loss: 0.2359\n",
            "generator loss: 4.5786\n",
            "real score: 0.89\n",
            "fake score: 0.04\n",
            "saving....... fake_images26.png\n",
            "epoch27/100: \n",
            "discriminator loss: 0.3357\n",
            "generator loss: 4.7526\n",
            "real score: 0.92\n",
            "fake score: 0.15\n",
            "saving....... fake_images27.png\n",
            "epoch28/100: \n",
            "discriminator loss: 0.3372\n",
            "generator loss: 4.1069\n",
            "real score: 0.94\n",
            "fake score: 0.15\n",
            "saving....... fake_images28.png\n",
            "epoch29/100: \n",
            "discriminator loss: 0.2614\n",
            "generator loss: 2.5308\n",
            "real score: 0.95\n",
            "fake score: 0.14\n",
            "saving....... fake_images29.png\n",
            "epoch30/100: \n",
            "discriminator loss: 0.2879\n",
            "generator loss: 5.3381\n",
            "real score: 0.92\n",
            "fake score: 0.12\n",
            "saving....... fake_images30.png\n",
            "epoch31/100: \n",
            "discriminator loss: 0.3387\n",
            "generator loss: 2.7750\n",
            "real score: 0.93\n",
            "fake score: 0.16\n",
            "saving....... fake_images31.png\n",
            "epoch32/100: \n",
            "discriminator loss: 0.3861\n",
            "generator loss: 2.9385\n",
            "real score: 0.91\n",
            "fake score: 0.15\n",
            "saving....... fake_images32.png\n",
            "epoch33/100: \n",
            "discriminator loss: 0.4578\n",
            "generator loss: 4.1848\n",
            "real score: 0.86\n",
            "fake score: 0.11\n",
            "saving....... fake_images33.png\n",
            "epoch34/100: \n",
            "discriminator loss: 0.3840\n",
            "generator loss: 4.0395\n",
            "real score: 0.86\n",
            "fake score: 0.07\n",
            "saving....... fake_images34.png\n",
            "epoch35/100: \n",
            "discriminator loss: 0.6933\n",
            "generator loss: 4.0912\n",
            "real score: 0.76\n",
            "fake score: 0.08\n",
            "saving....... fake_images35.png\n",
            "epoch36/100: \n",
            "discriminator loss: 0.4501\n",
            "generator loss: 3.3685\n",
            "real score: 0.89\n",
            "fake score: 0.18\n",
            "saving....... fake_images36.png\n",
            "epoch37/100: \n",
            "discriminator loss: 0.5869\n",
            "generator loss: 2.7217\n",
            "real score: 0.85\n",
            "fake score: 0.19\n",
            "saving....... fake_images37.png\n",
            "epoch38/100: \n",
            "discriminator loss: 0.4133\n",
            "generator loss: 1.8946\n",
            "real score: 0.87\n",
            "fake score: 0.12\n",
            "saving....... fake_images38.png\n",
            "epoch39/100: \n",
            "discriminator loss: 0.6702\n",
            "generator loss: 4.1455\n",
            "real score: 0.76\n",
            "fake score: 0.06\n",
            "saving....... fake_images39.png\n",
            "epoch40/100: \n",
            "discriminator loss: 0.6898\n",
            "generator loss: 3.6963\n",
            "real score: 0.89\n",
            "fake score: 0.26\n",
            "saving....... fake_images40.png\n",
            "epoch41/100: \n",
            "discriminator loss: 0.5331\n",
            "generator loss: 3.2620\n",
            "real score: 0.90\n",
            "fake score: 0.21\n",
            "saving....... fake_images41.png\n",
            "epoch42/100: \n",
            "discriminator loss: 0.4136\n",
            "generator loss: 3.2238\n",
            "real score: 0.83\n",
            "fake score: 0.12\n",
            "saving....... fake_images42.png\n",
            "epoch43/100: \n",
            "discriminator loss: 0.4342\n",
            "generator loss: 2.6023\n",
            "real score: 0.93\n",
            "fake score: 0.21\n",
            "saving....... fake_images43.png\n",
            "epoch44/100: \n",
            "discriminator loss: 0.4123\n",
            "generator loss: 2.5970\n",
            "real score: 0.89\n",
            "fake score: 0.17\n",
            "saving....... fake_images44.png\n",
            "epoch45/100: \n",
            "discriminator loss: 0.6778\n",
            "generator loss: 2.7635\n",
            "real score: 0.85\n",
            "fake score: 0.20\n",
            "saving....... fake_images45.png\n",
            "epoch46/100: \n",
            "discriminator loss: 0.5139\n",
            "generator loss: 2.7590\n",
            "real score: 0.84\n",
            "fake score: 0.17\n",
            "saving....... fake_images46.png\n",
            "epoch47/100: \n",
            "discriminator loss: 0.6028\n",
            "generator loss: 2.3251\n",
            "real score: 0.89\n",
            "fake score: 0.28\n",
            "saving....... fake_images47.png\n",
            "epoch48/100: \n",
            "discriminator loss: 0.4634\n",
            "generator loss: 4.1152\n",
            "real score: 0.88\n",
            "fake score: 0.18\n",
            "saving....... fake_images48.png\n",
            "epoch49/100: \n",
            "discriminator loss: 0.4056\n",
            "generator loss: 3.5677\n",
            "real score: 0.83\n",
            "fake score: 0.10\n",
            "saving....... fake_images49.png\n",
            "epoch50/100: \n",
            "discriminator loss: 0.4855\n",
            "generator loss: 3.6641\n",
            "real score: 0.91\n",
            "fake score: 0.20\n",
            "saving....... fake_images50.png\n",
            "epoch51/100: \n",
            "discriminator loss: 0.6291\n",
            "generator loss: 2.9358\n",
            "real score: 0.79\n",
            "fake score: 0.14\n",
            "saving....... fake_images51.png\n",
            "epoch52/100: \n",
            "discriminator loss: 0.5868\n",
            "generator loss: 2.2098\n",
            "real score: 0.87\n",
            "fake score: 0.27\n",
            "saving....... fake_images52.png\n",
            "epoch53/100: \n",
            "discriminator loss: 0.7025\n",
            "generator loss: 2.7372\n",
            "real score: 0.81\n",
            "fake score: 0.25\n",
            "saving....... fake_images53.png\n",
            "epoch54/100: \n",
            "discriminator loss: 0.8425\n",
            "generator loss: 1.9487\n",
            "real score: 0.76\n",
            "fake score: 0.25\n",
            "saving....... fake_images54.png\n",
            "epoch55/100: \n",
            "discriminator loss: 0.5987\n",
            "generator loss: 2.4861\n",
            "real score: 0.84\n",
            "fake score: 0.24\n",
            "saving....... fake_images55.png\n",
            "epoch56/100: \n",
            "discriminator loss: 0.4802\n",
            "generator loss: 1.8203\n",
            "real score: 0.86\n",
            "fake score: 0.19\n",
            "saving....... fake_images56.png\n",
            "epoch57/100: \n",
            "discriminator loss: 0.9680\n",
            "generator loss: 2.3350\n",
            "real score: 0.71\n",
            "fake score: 0.25\n",
            "saving....... fake_images57.png\n",
            "epoch58/100: \n",
            "discriminator loss: 0.6013\n",
            "generator loss: 3.0064\n",
            "real score: 0.78\n",
            "fake score: 0.16\n",
            "saving....... fake_images58.png\n",
            "epoch59/100: \n",
            "discriminator loss: 0.6142\n",
            "generator loss: 2.4807\n",
            "real score: 0.84\n",
            "fake score: 0.20\n",
            "saving....... fake_images59.png\n",
            "epoch60/100: \n",
            "discriminator loss: 0.5857\n",
            "generator loss: 3.2166\n",
            "real score: 0.78\n",
            "fake score: 0.12\n",
            "saving....... fake_images60.png\n",
            "epoch61/100: \n",
            "discriminator loss: 0.4675\n",
            "generator loss: 2.5640\n",
            "real score: 0.86\n",
            "fake score: 0.18\n",
            "saving....... fake_images61.png\n",
            "epoch62/100: \n",
            "discriminator loss: 0.5494\n",
            "generator loss: 2.2885\n",
            "real score: 0.80\n",
            "fake score: 0.14\n",
            "saving....... fake_images62.png\n",
            "epoch63/100: \n",
            "discriminator loss: 0.6468\n",
            "generator loss: 2.9453\n",
            "real score: 0.79\n",
            "fake score: 0.17\n",
            "saving....... fake_images63.png\n",
            "epoch64/100: \n",
            "discriminator loss: 0.4544\n",
            "generator loss: 2.3295\n",
            "real score: 0.85\n",
            "fake score: 0.17\n",
            "saving....... fake_images64.png\n",
            "epoch65/100: \n",
            "discriminator loss: 0.6987\n",
            "generator loss: 2.0924\n",
            "real score: 0.81\n",
            "fake score: 0.28\n",
            "saving....... fake_images65.png\n",
            "epoch66/100: \n",
            "discriminator loss: 0.5423\n",
            "generator loss: 1.9755\n",
            "real score: 0.83\n",
            "fake score: 0.22\n",
            "saving....... fake_images66.png\n",
            "epoch67/100: \n",
            "discriminator loss: 0.7469\n",
            "generator loss: 1.9997\n",
            "real score: 0.70\n",
            "fake score: 0.15\n",
            "saving....... fake_images67.png\n",
            "epoch68/100: \n",
            "discriminator loss: 0.5828\n",
            "generator loss: 2.4477\n",
            "real score: 0.79\n",
            "fake score: 0.18\n",
            "saving....... fake_images68.png\n",
            "epoch69/100: \n",
            "discriminator loss: 0.6061\n",
            "generator loss: 2.7048\n",
            "real score: 0.77\n",
            "fake score: 0.18\n",
            "saving....... fake_images69.png\n",
            "epoch70/100: \n",
            "discriminator loss: 0.7615\n",
            "generator loss: 1.6857\n",
            "real score: 0.77\n",
            "fake score: 0.27\n",
            "saving....... fake_images70.png\n",
            "epoch71/100: \n",
            "discriminator loss: 0.6438\n",
            "generator loss: 1.9956\n",
            "real score: 0.78\n",
            "fake score: 0.22\n",
            "saving....... fake_images71.png\n",
            "epoch72/100: \n",
            "discriminator loss: 0.4586\n",
            "generator loss: 2.2446\n",
            "real score: 0.85\n",
            "fake score: 0.18\n",
            "saving....... fake_images72.png\n",
            "epoch73/100: \n",
            "discriminator loss: 0.7681\n",
            "generator loss: 2.7604\n",
            "real score: 0.79\n",
            "fake score: 0.21\n",
            "saving....... fake_images73.png\n",
            "epoch74/100: \n",
            "discriminator loss: 0.5639\n",
            "generator loss: 2.4125\n",
            "real score: 0.83\n",
            "fake score: 0.19\n",
            "saving....... fake_images74.png\n",
            "epoch75/100: \n",
            "discriminator loss: 0.8852\n",
            "generator loss: 2.5620\n",
            "real score: 0.68\n",
            "fake score: 0.15\n",
            "saving....... fake_images75.png\n",
            "epoch76/100: \n",
            "discriminator loss: 0.7319\n",
            "generator loss: 2.4065\n",
            "real score: 0.79\n",
            "fake score: 0.24\n",
            "saving....... fake_images76.png\n",
            "epoch77/100: \n",
            "discriminator loss: 0.9900\n",
            "generator loss: 1.6341\n",
            "real score: 0.78\n",
            "fake score: 0.38\n",
            "saving....... fake_images77.png\n",
            "epoch78/100: \n",
            "discriminator loss: 0.6570\n",
            "generator loss: 1.7240\n",
            "real score: 0.81\n",
            "fake score: 0.27\n",
            "saving....... fake_images78.png\n",
            "epoch79/100: \n",
            "discriminator loss: 0.6897\n",
            "generator loss: 2.2803\n",
            "real score: 0.79\n",
            "fake score: 0.23\n",
            "saving....... fake_images79.png\n",
            "epoch80/100: \n",
            "discriminator loss: 0.7023\n",
            "generator loss: 1.7722\n",
            "real score: 0.71\n",
            "fake score: 0.18\n",
            "saving....... fake_images80.png\n",
            "epoch81/100: \n",
            "discriminator loss: 0.7346\n",
            "generator loss: 1.7692\n",
            "real score: 0.75\n",
            "fake score: 0.25\n",
            "saving....... fake_images81.png\n",
            "epoch82/100: \n",
            "discriminator loss: 0.6293\n",
            "generator loss: 1.8973\n",
            "real score: 0.78\n",
            "fake score: 0.20\n",
            "saving....... fake_images82.png\n",
            "epoch83/100: \n",
            "discriminator loss: 0.9784\n",
            "generator loss: 2.3312\n",
            "real score: 0.65\n",
            "fake score: 0.16\n",
            "saving....... fake_images83.png\n",
            "epoch84/100: \n",
            "discriminator loss: 0.7962\n",
            "generator loss: 2.7597\n",
            "real score: 0.70\n",
            "fake score: 0.21\n",
            "saving....... fake_images84.png\n",
            "epoch85/100: \n",
            "discriminator loss: 0.6892\n",
            "generator loss: 1.4663\n",
            "real score: 0.79\n",
            "fake score: 0.25\n",
            "saving....... fake_images85.png\n",
            "epoch86/100: \n",
            "discriminator loss: 1.0392\n",
            "generator loss: 1.9073\n",
            "real score: 0.66\n",
            "fake score: 0.21\n",
            "saving....... fake_images86.png\n",
            "epoch87/100: \n",
            "discriminator loss: 0.9583\n",
            "generator loss: 2.2277\n",
            "real score: 0.78\n",
            "fake score: 0.37\n",
            "saving....... fake_images87.png\n",
            "epoch88/100: \n",
            "discriminator loss: 0.8670\n",
            "generator loss: 1.8857\n",
            "real score: 0.79\n",
            "fake score: 0.37\n",
            "saving....... fake_images88.png\n",
            "epoch89/100: \n",
            "discriminator loss: 0.9726\n",
            "generator loss: 1.7903\n",
            "real score: 0.70\n",
            "fake score: 0.28\n",
            "saving....... fake_images89.png\n",
            "epoch90/100: \n",
            "discriminator loss: 0.8559\n",
            "generator loss: 2.2480\n",
            "real score: 0.72\n",
            "fake score: 0.26\n",
            "saving....... fake_images90.png\n",
            "epoch91/100: \n",
            "discriminator loss: 0.6073\n",
            "generator loss: 2.3393\n",
            "real score: 0.80\n",
            "fake score: 0.21\n",
            "saving....... fake_images91.png\n",
            "epoch92/100: \n",
            "discriminator loss: 0.5888\n",
            "generator loss: 1.8349\n",
            "real score: 0.79\n",
            "fake score: 0.21\n",
            "saving....... fake_images92.png\n",
            "epoch93/100: \n",
            "discriminator loss: 0.7103\n",
            "generator loss: 2.1593\n",
            "real score: 0.72\n",
            "fake score: 0.19\n",
            "saving....... fake_images93.png\n",
            "epoch94/100: \n",
            "discriminator loss: 0.7852\n",
            "generator loss: 2.4504\n",
            "real score: 0.73\n",
            "fake score: 0.24\n",
            "saving....... fake_images94.png\n",
            "epoch95/100: \n",
            "discriminator loss: 0.8473\n",
            "generator loss: 1.5768\n",
            "real score: 0.77\n",
            "fake score: 0.32\n",
            "saving....... fake_images95.png\n",
            "epoch96/100: \n",
            "discriminator loss: 0.7323\n",
            "generator loss: 1.8710\n",
            "real score: 0.86\n",
            "fake score: 0.32\n",
            "saving....... fake_images96.png\n",
            "epoch97/100: \n",
            "discriminator loss: 0.5595\n",
            "generator loss: 2.0599\n",
            "real score: 0.83\n",
            "fake score: 0.22\n",
            "saving....... fake_images97.png\n",
            "epoch98/100: \n",
            "discriminator loss: 0.8083\n",
            "generator loss: 1.6098\n",
            "real score: 0.77\n",
            "fake score: 0.32\n",
            "saving....... fake_images98.png\n",
            "epoch99/100: \n",
            "discriminator loss: 0.7936\n",
            "generator loss: 1.8539\n",
            "real score: 0.75\n",
            "fake score: 0.27\n",
            "saving....... fake_images99.png\n",
            "epoch100/100: \n",
            "discriminator loss: 0.6755\n",
            "generator loss: 2.3544\n",
            "real score: 0.74\n",
            "fake score: 0.18\n",
            "saving....... fake_images100.png\n"
          ]
        }
      ]
    },
    {
      "cell_type": "code",
      "source": [
        "#save the model 18\n",
        "torch.save(generator.state_dict(),'generator.ckpt')\n",
        "torch.save(discriminator.state_dict(),'discriminator.ckpt')"
      ],
      "metadata": {
        "id": "DFFbSIDAcvlS"
      },
      "execution_count": 118,
      "outputs": []
    },
    {
      "cell_type": "code",
      "source": [
        "import os\n",
        "import re\n",
        "\n",
        "# Directory containing your images\n",
        "dir = \"sample\"\n",
        "\n",
        "# Gather all files with 'fake_images' in their names\n",
        "files = [f for f in os.listdir(dir) if 'fake_images' in f]\n",
        "\n",
        "# Sort files numerically based on the digits in their names\n",
        "files.sort(key=lambda x: int(re.search(r'(\\d+)', x).group(1)))\n",
        "\n",
        "# Rename files with proper zero padding\n",
        "for i, fname in enumerate(files, start=1):\n",
        "    src = os.path.join(dir, fname)\n",
        "    dst = os.path.join(dir, f\"fake_images-{i:04d}.png\")  # Zero-padded to 4 digits\n",
        "    os.rename(src, dst)\n",
        "\n",
        "print(\"Files renamed successfully!\")\n"
      ],
      "metadata": {
        "colab": {
          "base_uri": "https://localhost:8080/",
          "height": 211
        },
        "id": "_u4j1v34oBi-",
        "outputId": "764db47c-97aa-4cda-9cbb-c996cf9e56d9"
      },
      "execution_count": 3,
      "outputs": [
        {
          "output_type": "error",
          "ename": "FileNotFoundError",
          "evalue": "[Errno 2] No such file or directory: 'sample'",
          "traceback": [
            "\u001b[0;31m---------------------------------------------------------------------------\u001b[0m",
            "\u001b[0;31mFileNotFoundError\u001b[0m                         Traceback (most recent call last)",
            "\u001b[0;32m<ipython-input-3-6962461c909f>\u001b[0m in \u001b[0;36m<cell line: 8>\u001b[0;34m()\u001b[0m\n\u001b[1;32m      6\u001b[0m \u001b[0;34m\u001b[0m\u001b[0m\n\u001b[1;32m      7\u001b[0m \u001b[0;31m# Gather all files with 'fake_images' in their names\u001b[0m\u001b[0;34m\u001b[0m\u001b[0;34m\u001b[0m\u001b[0m\n\u001b[0;32m----> 8\u001b[0;31m \u001b[0mfiles\u001b[0m \u001b[0;34m=\u001b[0m \u001b[0;34m[\u001b[0m\u001b[0mf\u001b[0m \u001b[0;32mfor\u001b[0m \u001b[0mf\u001b[0m \u001b[0;32min\u001b[0m \u001b[0mos\u001b[0m\u001b[0;34m.\u001b[0m\u001b[0mlistdir\u001b[0m\u001b[0;34m(\u001b[0m\u001b[0mdir\u001b[0m\u001b[0;34m)\u001b[0m \u001b[0;32mif\u001b[0m \u001b[0;34m'fake_images'\u001b[0m \u001b[0;32min\u001b[0m \u001b[0mf\u001b[0m\u001b[0;34m]\u001b[0m\u001b[0;34m\u001b[0m\u001b[0;34m\u001b[0m\u001b[0m\n\u001b[0m\u001b[1;32m      9\u001b[0m \u001b[0;34m\u001b[0m\u001b[0m\n\u001b[1;32m     10\u001b[0m \u001b[0;31m# Sort files numerically based on the digits in their names\u001b[0m\u001b[0;34m\u001b[0m\u001b[0;34m\u001b[0m\u001b[0m\n",
            "\u001b[0;31mFileNotFoundError\u001b[0m: [Errno 2] No such file or directory: 'sample'"
          ]
        }
      ]
    },
    {
      "cell_type": "code",
      "source": [
        "# generate a video of the process 19\n",
        "import cv2\n",
        "import os\n",
        "from IPython.display import FileLink\n",
        "\n",
        "vid_name = \"generative_adverserial_NN.avi\"\n",
        "\n",
        "files=[os.path.join(dir, f) for f in os.listdir(dir) if 'fake_images' in f]\n",
        "files.sort()\n",
        "\n",
        "out=cv2.VideoWriter(vid_name,cv2.VideoWriter_fourcc(*'MP4V'),8,(302,302))\n",
        "[out.write(cv2.imread(fname)) for fname in files]\n",
        "out.release()\n",
        "FileLink('generative_adverserial_NN.avi')\n"
      ],
      "metadata": {
        "colab": {
          "base_uri": "https://localhost:8080/",
          "height": 367
        },
        "id": "zr9SzjfRd51s",
        "outputId": "211cbd34-9c73-4e89-b452-cbbbbe764f3d"
      },
      "execution_count": 119,
      "outputs": [
        {
          "output_type": "error",
          "ename": "KeyboardInterrupt",
          "evalue": "",
          "traceback": [
            "\u001b[0;31m---------------------------------------------------------------------------\u001b[0m",
            "\u001b[0;31mKeyboardInterrupt\u001b[0m                         Traceback (most recent call last)",
            "\u001b[0;32m<ipython-input-119-6196d45c0beb>\u001b[0m in \u001b[0;36m<cell line: 12>\u001b[0;34m()\u001b[0m\n\u001b[1;32m     10\u001b[0m \u001b[0;34m\u001b[0m\u001b[0m\n\u001b[1;32m     11\u001b[0m \u001b[0mout\u001b[0m\u001b[0;34m=\u001b[0m\u001b[0mcv2\u001b[0m\u001b[0;34m.\u001b[0m\u001b[0mVideoWriter\u001b[0m\u001b[0;34m(\u001b[0m\u001b[0mvid_name\u001b[0m\u001b[0;34m,\u001b[0m\u001b[0mcv2\u001b[0m\u001b[0;34m.\u001b[0m\u001b[0mVideoWriter_fourcc\u001b[0m\u001b[0;34m(\u001b[0m\u001b[0;34m*\u001b[0m\u001b[0;34m'MP4V'\u001b[0m\u001b[0;34m)\u001b[0m\u001b[0;34m,\u001b[0m\u001b[0;36m8\u001b[0m\u001b[0;34m,\u001b[0m\u001b[0;34m(\u001b[0m\u001b[0;36m302\u001b[0m\u001b[0;34m,\u001b[0m\u001b[0;36m302\u001b[0m\u001b[0;34m)\u001b[0m\u001b[0;34m)\u001b[0m\u001b[0;34m\u001b[0m\u001b[0;34m\u001b[0m\u001b[0m\n\u001b[0;32m---> 12\u001b[0;31m \u001b[0;34m[\u001b[0m\u001b[0mout\u001b[0m\u001b[0;34m.\u001b[0m\u001b[0mwrite\u001b[0m\u001b[0;34m(\u001b[0m\u001b[0mcv2\u001b[0m\u001b[0;34m.\u001b[0m\u001b[0mimread\u001b[0m\u001b[0;34m(\u001b[0m\u001b[0mfname\u001b[0m\u001b[0;34m)\u001b[0m\u001b[0;34m)\u001b[0m \u001b[0;32mfor\u001b[0m \u001b[0mfname\u001b[0m \u001b[0;32min\u001b[0m \u001b[0mfiles\u001b[0m\u001b[0;34m]\u001b[0m\u001b[0;34m\u001b[0m\u001b[0;34m\u001b[0m\u001b[0m\n\u001b[0m\u001b[1;32m     13\u001b[0m \u001b[0mout\u001b[0m\u001b[0;34m.\u001b[0m\u001b[0mrelease\u001b[0m\u001b[0;34m(\u001b[0m\u001b[0;34m)\u001b[0m\u001b[0;34m\u001b[0m\u001b[0;34m\u001b[0m\u001b[0m\n\u001b[1;32m     14\u001b[0m \u001b[0mFileLink\u001b[0m\u001b[0;34m(\u001b[0m\u001b[0;34m'generative_adverserial_NN.avi'\u001b[0m\u001b[0;34m)\u001b[0m\u001b[0;34m\u001b[0m\u001b[0;34m\u001b[0m\u001b[0m\n",
            "\u001b[0;32m<ipython-input-119-6196d45c0beb>\u001b[0m in \u001b[0;36m<listcomp>\u001b[0;34m(.0)\u001b[0m\n\u001b[1;32m     10\u001b[0m \u001b[0;34m\u001b[0m\u001b[0m\n\u001b[1;32m     11\u001b[0m \u001b[0mout\u001b[0m\u001b[0;34m=\u001b[0m\u001b[0mcv2\u001b[0m\u001b[0;34m.\u001b[0m\u001b[0mVideoWriter\u001b[0m\u001b[0;34m(\u001b[0m\u001b[0mvid_name\u001b[0m\u001b[0;34m,\u001b[0m\u001b[0mcv2\u001b[0m\u001b[0;34m.\u001b[0m\u001b[0mVideoWriter_fourcc\u001b[0m\u001b[0;34m(\u001b[0m\u001b[0;34m*\u001b[0m\u001b[0;34m'MP4V'\u001b[0m\u001b[0;34m)\u001b[0m\u001b[0;34m,\u001b[0m\u001b[0;36m8\u001b[0m\u001b[0;34m,\u001b[0m\u001b[0;34m(\u001b[0m\u001b[0;36m302\u001b[0m\u001b[0;34m,\u001b[0m\u001b[0;36m302\u001b[0m\u001b[0;34m)\u001b[0m\u001b[0;34m)\u001b[0m\u001b[0;34m\u001b[0m\u001b[0;34m\u001b[0m\u001b[0m\n\u001b[0;32m---> 12\u001b[0;31m \u001b[0;34m[\u001b[0m\u001b[0mout\u001b[0m\u001b[0;34m.\u001b[0m\u001b[0mwrite\u001b[0m\u001b[0;34m(\u001b[0m\u001b[0mcv2\u001b[0m\u001b[0;34m.\u001b[0m\u001b[0mimread\u001b[0m\u001b[0;34m(\u001b[0m\u001b[0mfname\u001b[0m\u001b[0;34m)\u001b[0m\u001b[0;34m)\u001b[0m \u001b[0;32mfor\u001b[0m \u001b[0mfname\u001b[0m \u001b[0;32min\u001b[0m \u001b[0mfiles\u001b[0m\u001b[0;34m]\u001b[0m\u001b[0;34m\u001b[0m\u001b[0;34m\u001b[0m\u001b[0m\n\u001b[0m\u001b[1;32m     13\u001b[0m \u001b[0mout\u001b[0m\u001b[0;34m.\u001b[0m\u001b[0mrelease\u001b[0m\u001b[0;34m(\u001b[0m\u001b[0;34m)\u001b[0m\u001b[0;34m\u001b[0m\u001b[0;34m\u001b[0m\u001b[0m\n\u001b[1;32m     14\u001b[0m \u001b[0mFileLink\u001b[0m\u001b[0;34m(\u001b[0m\u001b[0;34m'generative_adverserial_NN.avi'\u001b[0m\u001b[0;34m)\u001b[0m\u001b[0;34m\u001b[0m\u001b[0;34m\u001b[0m\u001b[0m\n",
            "\u001b[0;31mKeyboardInterrupt\u001b[0m: "
          ]
        }
      ]
    },
    {
      "cell_type": "code",
      "source": [],
      "metadata": {
        "id": "VjKcXrsQgbVs"
      },
      "execution_count": null,
      "outputs": []
    }
  ]
}