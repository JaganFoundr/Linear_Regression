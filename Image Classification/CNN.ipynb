{
  "nbformat": 4,
  "nbformat_minor": 0,
  "metadata": {
    "colab": {
      "provenance": [],
      "gpuType": "T4",
      "authorship_tag": "ABX9TyOuLge2b+RNQuXss5qcegUv",
      "include_colab_link": true
    },
    "kernelspec": {
      "name": "python3",
      "display_name": "Python 3"
    },
    "language_info": {
      "name": "python"
    },
    "accelerator": "GPU"
  },
  "cells": [
    {
      "cell_type": "markdown",
      "metadata": {
        "id": "view-in-github",
        "colab_type": "text"
      },
      "source": [
        "<a href=\"https://colab.research.google.com/github/JaganFoundr/PyTorchNN/blob/main/Image%20Classification/CNN.ipynb\" target=\"_parent\"><img src=\"https://colab.research.google.com/assets/colab-badge.svg\" alt=\"Open In Colab\"/></a>"
      ]
    },
    {
      "cell_type": "code",
      "execution_count": 72,
      "metadata": {
        "id": "TjklmV7jsnNy"
      },
      "outputs": [],
      "source": [
        "# image classification with convolutional neural networks (CIFAR10)\n",
        "\n",
        "#importing all the important libraries 1\n",
        "import torch\n",
        "from torchvision.datasets import CIFAR10\n",
        "import matplotlib.pyplot as plt\n",
        "import torchvision.transforms as transforms\n",
        "import numpy as np\n",
        "import torch.nn as nn\n",
        "import torch.nn.functional as F\n",
        "from torch.utils.data import SubsetRandomSampler, DataLoader"
      ]
    },
    {
      "cell_type": "code",
      "source": [
        "#downloading the datasets 2\n",
        "dataset=CIFAR10(root='./data', download=True, train=True, transform=transforms.ToTensor())\n",
        "testset=CIFAR10(root='./data', download=True, train=False, transform=transforms.ToTensor())"
      ],
      "metadata": {
        "colab": {
          "base_uri": "https://localhost:8080/"
        },
        "id": "lkZYMxtszc2M",
        "outputId": "495a0207-c9a8-456e-d28a-4684d4f74cd2"
      },
      "execution_count": 73,
      "outputs": [
        {
          "output_type": "stream",
          "name": "stdout",
          "text": [
            "Files already downloaded and verified\n",
            "Files already downloaded and verified\n"
          ]
        }
      ]
    },
    {
      "cell_type": "code",
      "source": [
        "#plotting the images (as it is not a grayscale image, but contains rgb, when those images were converted into tensors,\n",
        "# its size was (3,32,32) but for getting the original color of the image using matplotlib, it has to be converted into the\n",
        "# the form (32,32,3) (height, width, no. of color channels) 3\n",
        "images, labels=dataset[1090]\n",
        "object_name=dataset.classes[labels]\n",
        "\n",
        "rgb_images=images.permute(1,2,0).numpy() #1,2,0 is a standard approach for most of the images\n",
        "plt.imshow(rgb_images)\n",
        "plt.show()\n",
        "\n",
        "print(\"object number: \", labels)\n",
        "print(\"object name: \", object_name)\n"
      ],
      "metadata": {
        "colab": {
          "base_uri": "https://localhost:8080/",
          "height": 465
        },
        "id": "S1LZI2xgFR6l",
        "outputId": "b07f1195-8015-481f-d184-cd9c46915a3e"
      },
      "execution_count": 74,
      "outputs": [
        {
          "output_type": "display_data",
          "data": {
            "text/plain": [
              "<Figure size 640x480 with 1 Axes>"
            ],
            "image/png": "[encoded data removed]"
          },
          "metadata": {}
        },
        {
          "output_type": "stream",
          "name": "stdout",
          "text": [
            "object number:  1\n",
            "object name:  automobile\n"
          ]
        }
      ]
    },
    {
      "cell_type": "code",
      "source": [
        "images.shape"
      ],
      "metadata": {
        "colab": {
          "base_uri": "https://localhost:8080/"
        },
        "id": "xcIsLOHuFiUw",
        "outputId": "a9142492-941f-4ef0-fd83-6b93a5fefa02"
      },
      "execution_count": 75,
      "outputs": [
        {
          "output_type": "execute_result",
          "data": {
            "text/plain": [
              "torch.Size([3, 32, 32])"
            ]
          },
          "metadata": {},
          "execution_count": 75
        }
      ]
    },
    {
      "cell_type": "code",
      "source": [
        "# splitting the whole dataset into training set and test set 4\n",
        "def split_data(data, valid_percent,seed):\n",
        "  valid_num=int(data*valid_percent)\n",
        "  np.random.seed(seed)# for not getting shuffled of the validation data that has been recieved already by shuffling.\n",
        "  shuffle=np.random.permutation(data)\n",
        "  return shuffle[valid_num:], shuffle[:valid_num]\n",
        "training_data, validation_data=split_data(len(dataset), valid_percent=0.2,seed=44)\n",
        "\n",
        "print('training data: ',len(training_data))\n",
        "print('validation data: ', len(validation_data))\n",
        "\n",
        "print('portion of validation data: ', validation_data[:20])"
      ],
      "metadata": {
        "colab": {
          "base_uri": "https://localhost:8080/"
        },
        "id": "aVktLz21FRyP",
        "outputId": "16a0ea4b-a1a2-47c4-d238-c4982e22e49d"
      },
      "execution_count": 76,
      "outputs": [
        {
          "output_type": "stream",
          "name": "stdout",
          "text": [
            "training data:  40000\n",
            "validation data:  10000\n",
            "portion of validation data:  [49457 20706 46059 38076  8394 13737 43619  3392 43068  5384 37471 24486\n",
            " 31073 34612 26783 46026 19185  2907 23882 39491]\n"
          ]
        }
      ]
    },
    {
      "cell_type": "code",
      "source": [
        "# putting in the randomsampler and then in the dataloader 5\n",
        "train_sampler=SubsetRandomSampler(training_data)\n",
        "validation_sampler=SubsetRandomSampler(validation_data)\n",
        "\n",
        "batch_size=100\n",
        "\n",
        "train_loader=DataLoader(dataset, batch_size, sampler=train_sampler)\n",
        "validation_loader=DataLoader(dataset, batch_size, sampler=validation_sampler)"
      ],
      "metadata": {
        "id": "SOJldjg-FRqd"
      },
      "execution_count": 77,
      "outputs": []
    },
    {
      "cell_type": "code",
      "source": [
        "#defining the model 6\n",
        "model=nn.Sequential(\n",
        "\n",
        "#layer1\n",
        "nn.Conv2d(in_channels=3,out_channels=16,kernel_size=3, stride=1, padding=1), #conv2d for defining the cnn layer\n",
        "nn.ReLU(),\n",
        "nn.MaxPool2d(2,2), #16x16x16\n",
        "\n",
        "#layer2\n",
        "nn.Conv2d(in_channels=16,out_channels=16,kernel_size=3, stride=1, padding=1),\n",
        "nn.ReLU(),\n",
        "nn.MaxPool2d(2,2), #16x8x8\n",
        "\n",
        "#layer3\n",
        "nn.Conv2d(in_channels=16,out_channels=16,kernel_size=3, stride=1, padding=1),\n",
        "nn.ReLU(),\n",
        "nn.MaxPool2d(2,2), #16x4x4\n",
        "\n",
        "#layer4\n",
        "nn.Conv2d(in_channels=16,out_channels=16,kernel_size=3, stride=1, padding=1),\n",
        "nn.ReLU(),\n",
        "nn.MaxPool2d(2,2), #16x2x2\n",
        "\n",
        "#layer5\n",
        "nn.Conv2d(in_channels=16,out_channels=16,kernel_size=3, stride=1, padding=1),\n",
        "nn.ReLU(),\n",
        "nn.MaxPool2d(2,2), #16x1x1\n",
        "\n",
        "nn.Flatten(), #converts this 16x1x1 into just 16 (vector)\n",
        "nn.Linear(16,10) # finally 16 inputs and 10 outputs for each input\n",
        "\n",
        " ) # maxpool for reducing the size of the image after each and every layer or computation"
      ],
      "metadata": {
        "id": "WgPouQdmFRYT"
      },
      "execution_count": 78,
      "outputs": []
    },
    {
      "cell_type": "code",
      "source": [
        "#putting the training loader in the for loop as inputs and outputs for prediction 7\n",
        "for images, labels in train_loader:\n",
        "\n",
        "  prediction = model(images)"
      ],
      "metadata": {
        "id": "uMGgCdQkJ31s"
      },
      "execution_count": 79,
      "outputs": []
    },
    {
      "cell_type": "code",
      "source": [
        "#displaying the prediction and exact portion of the prediction 8\n",
        "print(\"image shape: \",images.shape)\n",
        "print(\"output shape: \", prediction.shape)\n",
        "print(\"portion of the prediction: \", prediction[10])\n",
        "\n",
        "sum_check=torch.sum(prediction[10])\n",
        "print(sum_check)"
      ],
      "metadata": {
        "colab": {
          "base_uri": "https://localhost:8080/"
        },
        "id": "CTlfca5YOnmL",
        "outputId": "406b12fc-eda3-4274-c64f-c8e3cd89c9af"
      },
      "execution_count": 80,
      "outputs": [
        {
          "output_type": "stream",
          "name": "stdout",
          "text": [
            "image shape:  torch.Size([100, 3, 32, 32])\n",
            "output shape:  torch.Size([100, 10])\n",
            "portion of the prediction:  tensor([-0.2172, -0.1640, -0.0683,  0.0621, -0.1712, -0.2099,  0.0471, -0.0298,\n",
            "        -0.2914, -0.1459], grad_fn=<SelectBackward0>)\n",
            "tensor(-1.1883, grad_fn=<SumBackward0>)\n"
          ]
        }
      ]
    },
    {
      "cell_type": "code",
      "source": [
        "#convert the predicted probablities to a sum of one. 9\n",
        "changed_prob=F.softmax(prediction, dim=1)\n",
        "\n",
        "prob=torch.sum(changed_prob[10])\n",
        "print(prob)\n",
        "\n",
        "print(\"changed probablities: \",changed_prob[10])"
      ],
      "metadata": {
        "colab": {
          "base_uri": "https://localhost:8080/"
        },
        "id": "VzZh8Dl8cXaj",
        "outputId": "159874f4-3519-4809-8836-8e04dd11c204"
      },
      "execution_count": 81,
      "outputs": [
        {
          "output_type": "stream",
          "name": "stdout",
          "text": [
            "tensor(1., grad_fn=<SumBackward0>)\n",
            "changed probablities:  tensor([0.0901, 0.0950, 0.1045, 0.1191, 0.0943, 0.0907, 0.1173, 0.1086, 0.0836,\n",
            "        0.0967], grad_fn=<SelectBackward0>)\n"
          ]
        }
      ]
    },
    {
      "cell_type": "code",
      "source": [
        "#exact prediction made by the model 10\n",
        "_,pred = torch.max(prediction, dim=1)\n",
        "print(pred)\n",
        "\n",
        "dataset.classes[9]"
      ],
      "metadata": {
        "colab": {
          "base_uri": "https://localhost:8080/",
          "height": 122
        },
        "id": "13IyTIkVfQ7S",
        "outputId": "d64a5d8c-9956-43d9-e07f-ae035fbe813f"
      },
      "execution_count": 82,
      "outputs": [
        {
          "output_type": "stream",
          "name": "stdout",
          "text": [
            "tensor([3, 3, 3, 3, 3, 3, 3, 3, 3, 3, 3, 3, 3, 3, 3, 3, 3, 3, 3, 3, 3, 3, 3, 3,\n",
            "        3, 3, 3, 3, 3, 3, 3, 3, 3, 3, 3, 3, 3, 3, 3, 3, 3, 3, 3, 3, 3, 3, 3, 3,\n",
            "        3, 3, 3, 3, 3, 3, 3, 3, 3, 3, 3, 3, 3, 3, 3, 3, 3, 3, 3, 3, 3, 3, 3, 3,\n",
            "        3, 3, 3, 3, 3, 3, 3, 3, 3, 3, 3, 3, 3, 3, 3, 3, 3, 3, 3, 3, 3, 3, 3, 3,\n",
            "        3, 3, 3, 3])\n"
          ]
        },
        {
          "output_type": "execute_result",
          "data": {
            "text/plain": [
              "'truck'"
            ],
            "application/vnd.google.colaboratory.intrinsic+json": {
              "type": "string"
            }
          },
          "metadata": {},
          "execution_count": 82
        }
      ]
    },
    {
      "cell_type": "code",
      "source": [
        "#actual target labels 11\n",
        "labels"
      ],
      "metadata": {
        "colab": {
          "base_uri": "https://localhost:8080/"
        },
        "id": "6akHi5DofXMa",
        "outputId": "d44f2fc6-2e09-4f3b-9fee-f98411f77d8e"
      },
      "execution_count": 83,
      "outputs": [
        {
          "output_type": "execute_result",
          "data": {
            "text/plain": [
              "tensor([8, 3, 5, 5, 1, 6, 3, 5, 6, 5, 4, 5, 0, 9, 4, 8, 6, 6, 7, 0, 9, 3, 7, 8,\n",
              "        6, 8, 7, 2, 2, 4, 5, 7, 5, 9, 1, 5, 0, 8, 9, 5, 7, 0, 8, 3, 9, 7, 6, 9,\n",
              "        6, 7, 2, 5, 8, 0, 2, 8, 7, 3, 2, 8, 0, 1, 3, 5, 7, 9, 9, 7, 3, 3, 3, 5,\n",
              "        5, 7, 0, 0, 2, 8, 5, 9, 3, 3, 1, 9, 6, 1, 5, 7, 8, 4, 5, 2, 2, 9, 1, 6,\n",
              "        3, 7, 7, 7])"
            ]
          },
          "metadata": {},
          "execution_count": 83
        }
      ]
    },
    {
      "cell_type": "code",
      "source": [
        "# loss fn 12\n",
        "loss_function = F.cross_entropy"
      ],
      "metadata": {
        "id": "mzKTqd8tfZfx"
      },
      "execution_count": 84,
      "outputs": []
    },
    {
      "cell_type": "code",
      "source": [
        "#optimizer 13\n",
        "opt=torch.optim.Adam(model.parameters(), lr=0.005)"
      ],
      "metadata": {
        "id": "R7-4nEFn7Zpb"
      },
      "execution_count": 85,
      "outputs": []
    },
    {
      "cell_type": "code",
      "source": [
        "#accuracy fn 14\n",
        "def accuracy(output, labels):\n",
        "  _, pred = torch.max(output, dim=1)\n",
        "  return torch.sum(pred==labels).item()/len(pred)*100"
      ],
      "metadata": {
        "id": "sJy-Xf427lkP"
      },
      "execution_count": 86,
      "outputs": []
    },
    {
      "cell_type": "code",
      "source": [
        "#loss_batch 15\n",
        "def loss_batch(model, loss_function, images, labels, opt, metrics=accuracy):\n",
        "  prediction=model(images)\n",
        "  loss=loss_function(prediction, labels)\n",
        "\n",
        "  if opt is not None:\n",
        "    loss.backward()\n",
        "    opt.step()\n",
        "    opt.zero_grad()\n",
        "\n",
        "  metric_result=None\n",
        "  if metrics is not None:\n",
        "    metric_result=metrics(prediction, labels)\n",
        "\n",
        "  return loss.item(), len(images), metric_result"
      ],
      "metadata": {
        "id": "pnmTGXZn8Rji"
      },
      "execution_count": 87,
      "outputs": []
    },
    {
      "cell_type": "code",
      "source": [
        "#evaluate 16\n",
        "def evaluate(model, loss_function, validation_loader, metrics=accuracy):\n",
        "  with torch.no_grad():\n",
        "    validation_result=[loss_batch(model, loss_function, images, labels, opt=None, metrics=accuracy) for images, labels in validation_loader]\n",
        "\n",
        "    losses, nums, metric = zip(*validation_result)\n",
        "\n",
        "    total=np.sum(nums)\n",
        "\n",
        "    avg_loss = np.sum(np.multiply(losses, nums))/total\n",
        "\n",
        "    metric_result=None\n",
        "    if metrics is not None:\n",
        "      metric_result = np.sum(np.multiply(metric, nums))/total\n",
        "\n",
        "  return avg_loss, total, metric_result\n"
      ],
      "metadata": {
        "id": "wBiJ_mQ-9inq"
      },
      "execution_count": 88,
      "outputs": []
    },
    {
      "cell_type": "code",
      "source": [
        "#training 17\n",
        "def train(nepochs, model, loss_function, images, labels, train_loader, validation_loader, opt, metrics=accuracy):\n",
        "  for epoch in range(nepochs):\n",
        "    model.train()\n",
        "    for images, labels in train_loader:\n",
        "      images, labels = images, labels\n",
        "      train_loss, _, train_acc = loss_batch(model, loss_function, images, labels, opt, metrics=accuracy)\n",
        "\n",
        "    model.eval()\n",
        "    valid_loss,_,valid_acc=evaluate(model, loss_function, validation_loader, metrics=accuracy)\n",
        "\n",
        "    print(f\"epoch {epoch+1}/{nepochs}: \")\n",
        "    print(f\"training loss: {train_loss:.4f} and validation loss: {valid_loss:.4f}\")\n",
        "    print(f\"training accuracy: {train_acc:.2f}% and validation accuracy: {valid_acc:.2f}%\")\n",
        "\n",
        "  return train_loss, valid_loss, train_acc, valid_acc\n",
        "\n",
        "train_loss, valid_loss, train_acc, valid_acc = train(10, model, loss_function, images, labels, train_loader, validation_loader, opt, metrics=accuracy)"
      ],
      "metadata": {
        "colab": {
          "base_uri": "https://localhost:8080/"
        },
        "id": "x8MX_cx6_vKo",
        "outputId": "624fd298-049e-4e99-cd14-16804af9a497"
      },
      "execution_count": 89,
      "outputs": [
        {
          "output_type": "stream",
          "name": "stdout",
          "text": [
            "epoch 1/15: \n",
            "training loss: 1.7465 and validation loss: 1.6958\n",
            "training accuracy: 30.00% and validation accuracy: 36.45%\n",
            "epoch 2/15: \n",
            "training loss: 1.4727 and validation loss: 1.4835\n",
            "training accuracy: 44.00% and validation accuracy: 45.02%\n",
            "epoch 3/15: \n",
            "training loss: 1.2367 and validation loss: 1.3746\n",
            "training accuracy: 60.00% and validation accuracy: 49.28%\n",
            "epoch 4/15: \n",
            "training loss: 1.3173 and validation loss: 1.3050\n",
            "training accuracy: 46.00% and validation accuracy: 52.32%\n",
            "epoch 5/15: \n",
            "training loss: 0.8872 and validation loss: 1.2362\n",
            "training accuracy: 66.00% and validation accuracy: 55.45%\n",
            "epoch 6/15: \n",
            "training loss: 1.2517 and validation loss: 1.2577\n",
            "training accuracy: 49.00% and validation accuracy: 55.01%\n",
            "epoch 7/15: \n",
            "training loss: 1.2059 and validation loss: 1.1885\n",
            "training accuracy: 64.00% and validation accuracy: 57.10%\n",
            "epoch 8/15: \n",
            "training loss: 1.4092 and validation loss: 1.2466\n",
            "training accuracy: 50.00% and validation accuracy: 55.48%\n",
            "epoch 9/15: \n",
            "training loss: 1.1571 and validation loss: 1.1533\n",
            "training accuracy: 57.00% and validation accuracy: 58.27%\n",
            "epoch 10/15: \n",
            "training loss: 1.0812 and validation loss: 1.1871\n",
            "training accuracy: 60.00% and validation accuracy: 57.58%\n",
            "epoch 11/15: \n",
            "training loss: 1.0518 and validation loss: 1.1092\n",
            "training accuracy: 64.00% and validation accuracy: 60.39%\n",
            "epoch 12/15: \n",
            "training loss: 0.9219 and validation loss: 1.1110\n",
            "training accuracy: 71.00% and validation accuracy: 60.85%\n",
            "epoch 13/15: \n",
            "training loss: 1.1094 and validation loss: 1.1676\n",
            "training accuracy: 56.00% and validation accuracy: 58.25%\n",
            "epoch 14/15: \n",
            "training loss: 1.0887 and validation loss: 1.1245\n",
            "training accuracy: 65.00% and validation accuracy: 60.10%\n",
            "epoch 15/15: \n",
            "training loss: 0.8586 and validation loss: 1.1004\n",
            "training accuracy: 65.00% and validation accuracy: 60.70%\n"
          ]
        }
      ]
    },
    {
      "cell_type": "code",
      "source": [
        "#prediction function 18\n",
        "def prediction(images, model):\n",
        "  input=images.unsqueeze(0)\n",
        "  output=model(input)\n",
        "  _,pred=torch.max(output, dim=1)\n",
        "  return pred[0].item()"
      ],
      "metadata": {
        "id": "hS62zIJeAhlm"
      },
      "execution_count": 129,
      "outputs": []
    },
    {
      "cell_type": "code",
      "source": [
        "#plotting the predictions 19\n",
        "images, labels=testset[1119]\n",
        "object_name=dataset.classes[labels]\n",
        "rgb_images=images.permute(1,2,0).numpy()\n",
        "plt.imshow(rgb_images)\n",
        "print(\"labels: \",object_name)\n",
        "print(\"predicted: \",dataset.classes[prediction(images, model)])\n",
        "plt.show()\n",
        "\n",
        "\n",
        "test_loader=DataLoader(testset, batch_size=200)\n",
        "\n",
        "#test accuracy (you define it in your own form)\n",
        "print(evaluate(model, loss_function, test_loader, metrics=accuracy))"
      ],
      "metadata": {
        "colab": {
          "base_uri": "https://localhost:8080/",
          "height": 482
        },
        "id": "tj5MwN83SjFV",
        "outputId": "b547b2ba-61f2-4ea4-a6f2-313d7e9af3e2"
      },
      "execution_count": 138,
      "outputs": [
        {
          "output_type": "stream",
          "name": "stdout",
          "text": [
            "labels:  horse\n",
            "predicted:  horse\n"
          ]
        },
        {
          "output_type": "display_data",
          "data": {
            "text/plain": [
              "<Figure size 640x480 with 1 Axes>"
            ],
            "image/png": "[encoded data removed]"
          },
          "metadata": {}
        },
        {
          "output_type": "stream",
          "name": "stdout",
          "text": [
            "(1.081886042356491, 10000, 61.51)\n"
          ]
        }
      ]
    },
    {
      "cell_type": "code",
      "source": [
        "#saving the model\n",
        "torch.save(model.state_dict(), 'CNNmodel.pth')\n",
        "model.state_dict()"
      ],
      "metadata": {
        "id": "y1NqQiVQU_DL"
      },
      "execution_count": null,
      "outputs": []
    },
    {
      "cell_type": "code",
      "source": [
        "#loading the saved model\n",
        "savedmodel=model\n",
        "savedmodel.load_state_dict(torch.load('CNNmodel.pth'))\n",
        "savedmodel.state_dict()"
      ],
      "metadata": {
        "id": "AcuZ0LV-frK1"
      },
      "execution_count": null,
      "outputs": []
    },
    {
      "cell_type": "code",
      "source": [],
      "metadata": {
        "id": "xjvy7qfzhJVV"
      },
      "execution_count": null,
      "outputs": []
    }
  ]
}